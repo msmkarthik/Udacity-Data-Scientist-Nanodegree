{
 "cells": [
  {
   "cell_type": "markdown",
   "metadata": {},
   "source": [
    "# Sparkify Project Workspace\n",
    "This workspace contains a tiny subset (128MB) of the full dataset available (12GB). Feel free to use this workspace to build your project, or to explore a smaller subset with Spark before deploying your cluster on the cloud. Instructions for setting up your Spark cluster is included in the last lesson of the Extracurricular Spark Course content.\n",
    "\n",
    "You can follow the steps below to guide your data analysis and model building portion of this project."
   ]
  },
  {
   "cell_type": "code",
   "execution_count": 1,
   "metadata": {},
   "outputs": [],
   "source": [
    "import pandas as pd\n",
    "import numpy as np\n",
    "import matplotlib.pyplot as plt\n",
    "\n",
    "import seaborn as sns\n",
    "sns.set(style=\"whitegrid\")\n",
    "\n",
    "%matplotlib inline"
   ]
  },
  {
   "cell_type": "code",
   "execution_count": 2,
   "metadata": {},
   "outputs": [],
   "source": [
    "from pyspark.sql import SparkSession, Window\n",
    "import pyspark.sql.functions as F\n",
    "import pyspark.sql.types as T\n",
    "\n",
    "from pyspark.ml import Pipeline\n",
    "from pyspark.ml.feature import StandardScaler, StringIndexer,OneHotEncoderEstimator ,VectorAssembler\n",
    "from pyspark.ml.classification import LogisticRegression, LinearSVC,RandomForestClassifier\n",
    "from pyspark.ml.evaluation import MulticlassClassificationEvaluator\n",
    "from pyspark.mllib.evaluation import MulticlassMetrics\n",
    "from pyspark.ml.tuning import CrossValidator, ParamGridBuilder"
   ]
  },
  {
   "cell_type": "code",
   "execution_count": 3,
   "metadata": {},
   "outputs": [],
   "source": [
    "# create a Spark session\n",
    "spark = SparkSession.builder.getOrCreate()"
   ]
  },
  {
   "cell_type": "markdown",
   "metadata": {},
   "source": [
    "# Load and Clean Dataset\n",
    "In this workspace, the mini-dataset file is `mini_sparkify_event_data.json`. Load and clean the dataset, checking for invalid or missing data - for example, records without userids or sessionids. "
   ]
  },
  {
   "cell_type": "markdown",
   "metadata": {},
   "source": [
    "# Data Overview"
   ]
  },
  {
   "cell_type": "code",
   "execution_count": 4,
   "metadata": {},
   "outputs": [],
   "source": [
    "events_df = spark.read.json('mini_sparkify_event_data.json')"
   ]
  },
  {
   "cell_type": "code",
   "execution_count": 5,
   "metadata": {},
   "outputs": [
    {
     "name": "stdout",
     "output_type": "stream",
     "text": [
      "root\n",
      " |-- artist: string (nullable = true)\n",
      " |-- auth: string (nullable = true)\n",
      " |-- firstName: string (nullable = true)\n",
      " |-- gender: string (nullable = true)\n",
      " |-- itemInSession: long (nullable = true)\n",
      " |-- lastName: string (nullable = true)\n",
      " |-- length: double (nullable = true)\n",
      " |-- level: string (nullable = true)\n",
      " |-- location: string (nullable = true)\n",
      " |-- method: string (nullable = true)\n",
      " |-- page: string (nullable = true)\n",
      " |-- registration: long (nullable = true)\n",
      " |-- sessionId: long (nullable = true)\n",
      " |-- song: string (nullable = true)\n",
      " |-- status: long (nullable = true)\n",
      " |-- ts: long (nullable = true)\n",
      " |-- userAgent: string (nullable = true)\n",
      " |-- userId: string (nullable = true)\n",
      "\n"
     ]
    }
   ],
   "source": [
    "events_df.printSchema()"
   ]
  },
  {
   "cell_type": "code",
   "execution_count": 6,
   "metadata": {},
   "outputs": [
    {
     "data": {
      "text/plain": [
       "artist                                              Martha Tilston\n",
       "auth                                                     Logged In\n",
       "firstName                                                    Colin\n",
       "gender                                                           M\n",
       "itemInSession                                                   50\n",
       "lastName                                                   Freeman\n",
       "length                                                      277.89\n",
       "level                                                         paid\n",
       "location                                           Bakersfield, CA\n",
       "method                                                         PUT\n",
       "page                                                      NextSong\n",
       "registration                                           1.53817e+12\n",
       "sessionId                                                       29\n",
       "song                                                     Rockpools\n",
       "status                                                         200\n",
       "ts                                                   1538352117000\n",
       "userAgent        Mozilla/5.0 (Windows NT 6.1; WOW64; rv:31.0) G...\n",
       "userId                                                          30\n",
       "Name: 0, dtype: object"
      ]
     },
     "execution_count": 6,
     "metadata": {},
     "output_type": "execute_result"
    }
   ],
   "source": [
    "events_df.toPandas().iloc[0]"
   ]
  },
  {
   "cell_type": "code",
   "execution_count": 7,
   "metadata": {},
   "outputs": [
    {
     "name": "stdout",
     "output_type": "stream",
     "text": [
      "+----------------+---------+---------+------+-------------+--------+---------+-----+--------------------+------+--------+-------------+---------+--------------------+------+-------------+--------------------+------+\n",
      "|          artist|     auth|firstName|gender|itemInSession|lastName|   length|level|            location|method|    page| registration|sessionId|                song|status|           ts|           userAgent|userId|\n",
      "+----------------+---------+---------+------+-------------+--------+---------+-----+--------------------+------+--------+-------------+---------+--------------------+------+-------------+--------------------+------+\n",
      "|  Martha Tilston|Logged In|    Colin|     M|           50| Freeman|277.89016| paid|     Bakersfield, CA|   PUT|NextSong|1538173362000|       29|           Rockpools|   200|1538352117000|Mozilla/5.0 (Wind...|    30|\n",
      "|Five Iron Frenzy|Logged In|    Micah|     M|           79|    Long|236.09424| free|Boston-Cambridge-...|   PUT|NextSong|1538331630000|        8|              Canada|   200|1538352180000|\"Mozilla/5.0 (Win...|     9|\n",
      "|    Adam Lambert|Logged In|    Colin|     M|           51| Freeman| 282.8273| paid|     Bakersfield, CA|   PUT|NextSong|1538173362000|       29|   Time For Miracles|   200|1538352394000|Mozilla/5.0 (Wind...|    30|\n",
      "|          Enigma|Logged In|    Micah|     M|           80|    Long|262.71302| free|Boston-Cambridge-...|   PUT|NextSong|1538331630000|        8|Knocking On Forbi...|   200|1538352416000|\"Mozilla/5.0 (Win...|     9|\n",
      "|       Daft Punk|Logged In|    Colin|     M|           52| Freeman|223.60771| paid|     Bakersfield, CA|   PUT|NextSong|1538173362000|       29|Harder Better Fas...|   200|1538352676000|Mozilla/5.0 (Wind...|    30|\n",
      "+----------------+---------+---------+------+-------------+--------+---------+-----+--------------------+------+--------+-------------+---------+--------------------+------+-------------+--------------------+------+\n",
      "only showing top 5 rows\n",
      "\n"
     ]
    }
   ],
   "source": [
    "events_df.show(5)"
   ]
  },
  {
   "cell_type": "code",
   "execution_count": 8,
   "metadata": {},
   "outputs": [
    {
     "data": {
      "text/html": [
       "<div>\n",
       "<style scoped>\n",
       "    .dataframe tbody tr th:only-of-type {\n",
       "        vertical-align: middle;\n",
       "    }\n",
       "\n",
       "    .dataframe tbody tr th {\n",
       "        vertical-align: top;\n",
       "    }\n",
       "\n",
       "    .dataframe thead th {\n",
       "        text-align: right;\n",
       "    }\n",
       "</style>\n",
       "<table border=\"1\" class=\"dataframe\">\n",
       "  <thead>\n",
       "    <tr style=\"text-align: right;\">\n",
       "      <th></th>\n",
       "      <th>artist</th>\n",
       "      <th>auth</th>\n",
       "      <th>firstName</th>\n",
       "      <th>gender</th>\n",
       "      <th>itemInSession</th>\n",
       "      <th>lastName</th>\n",
       "      <th>length</th>\n",
       "      <th>level</th>\n",
       "      <th>location</th>\n",
       "      <th>method</th>\n",
       "      <th>page</th>\n",
       "      <th>registration</th>\n",
       "      <th>sessionId</th>\n",
       "      <th>song</th>\n",
       "      <th>status</th>\n",
       "      <th>ts</th>\n",
       "      <th>userAgent</th>\n",
       "      <th>userId</th>\n",
       "    </tr>\n",
       "  </thead>\n",
       "  <tbody>\n",
       "    <tr>\n",
       "      <th>0</th>\n",
       "      <td>Martha Tilston</td>\n",
       "      <td>Logged In</td>\n",
       "      <td>Colin</td>\n",
       "      <td>M</td>\n",
       "      <td>50</td>\n",
       "      <td>Freeman</td>\n",
       "      <td>277.89016</td>\n",
       "      <td>paid</td>\n",
       "      <td>Bakersfield, CA</td>\n",
       "      <td>PUT</td>\n",
       "      <td>NextSong</td>\n",
       "      <td>1538173362000</td>\n",
       "      <td>29</td>\n",
       "      <td>Rockpools</td>\n",
       "      <td>200</td>\n",
       "      <td>1538352117000</td>\n",
       "      <td>Mozilla/5.0 (Windows NT 6.1; WOW64; rv:31.0) G...</td>\n",
       "      <td>30</td>\n",
       "    </tr>\n",
       "    <tr>\n",
       "      <th>1</th>\n",
       "      <td>Five Iron Frenzy</td>\n",
       "      <td>Logged In</td>\n",
       "      <td>Micah</td>\n",
       "      <td>M</td>\n",
       "      <td>79</td>\n",
       "      <td>Long</td>\n",
       "      <td>236.09424</td>\n",
       "      <td>free</td>\n",
       "      <td>Boston-Cambridge-Newton, MA-NH</td>\n",
       "      <td>PUT</td>\n",
       "      <td>NextSong</td>\n",
       "      <td>1538331630000</td>\n",
       "      <td>8</td>\n",
       "      <td>Canada</td>\n",
       "      <td>200</td>\n",
       "      <td>1538352180000</td>\n",
       "      <td>\"Mozilla/5.0 (Windows NT 6.1; WOW64) AppleWebK...</td>\n",
       "      <td>9</td>\n",
       "    </tr>\n",
       "    <tr>\n",
       "      <th>2</th>\n",
       "      <td>Adam Lambert</td>\n",
       "      <td>Logged In</td>\n",
       "      <td>Colin</td>\n",
       "      <td>M</td>\n",
       "      <td>51</td>\n",
       "      <td>Freeman</td>\n",
       "      <td>282.82730</td>\n",
       "      <td>paid</td>\n",
       "      <td>Bakersfield, CA</td>\n",
       "      <td>PUT</td>\n",
       "      <td>NextSong</td>\n",
       "      <td>1538173362000</td>\n",
       "      <td>29</td>\n",
       "      <td>Time For Miracles</td>\n",
       "      <td>200</td>\n",
       "      <td>1538352394000</td>\n",
       "      <td>Mozilla/5.0 (Windows NT 6.1; WOW64; rv:31.0) G...</td>\n",
       "      <td>30</td>\n",
       "    </tr>\n",
       "    <tr>\n",
       "      <th>3</th>\n",
       "      <td>Enigma</td>\n",
       "      <td>Logged In</td>\n",
       "      <td>Micah</td>\n",
       "      <td>M</td>\n",
       "      <td>80</td>\n",
       "      <td>Long</td>\n",
       "      <td>262.71302</td>\n",
       "      <td>free</td>\n",
       "      <td>Boston-Cambridge-Newton, MA-NH</td>\n",
       "      <td>PUT</td>\n",
       "      <td>NextSong</td>\n",
       "      <td>1538331630000</td>\n",
       "      <td>8</td>\n",
       "      <td>Knocking On Forbidden Doors</td>\n",
       "      <td>200</td>\n",
       "      <td>1538352416000</td>\n",
       "      <td>\"Mozilla/5.0 (Windows NT 6.1; WOW64) AppleWebK...</td>\n",
       "      <td>9</td>\n",
       "    </tr>\n",
       "    <tr>\n",
       "      <th>4</th>\n",
       "      <td>Daft Punk</td>\n",
       "      <td>Logged In</td>\n",
       "      <td>Colin</td>\n",
       "      <td>M</td>\n",
       "      <td>52</td>\n",
       "      <td>Freeman</td>\n",
       "      <td>223.60771</td>\n",
       "      <td>paid</td>\n",
       "      <td>Bakersfield, CA</td>\n",
       "      <td>PUT</td>\n",
       "      <td>NextSong</td>\n",
       "      <td>1538173362000</td>\n",
       "      <td>29</td>\n",
       "      <td>Harder Better Faster Stronger</td>\n",
       "      <td>200</td>\n",
       "      <td>1538352676000</td>\n",
       "      <td>Mozilla/5.0 (Windows NT 6.1; WOW64; rv:31.0) G...</td>\n",
       "      <td>30</td>\n",
       "    </tr>\n",
       "  </tbody>\n",
       "</table>\n",
       "</div>"
      ],
      "text/plain": [
       "             artist       auth firstName gender  itemInSession lastName  \\\n",
       "0    Martha Tilston  Logged In     Colin      M             50  Freeman   \n",
       "1  Five Iron Frenzy  Logged In     Micah      M             79     Long   \n",
       "2      Adam Lambert  Logged In     Colin      M             51  Freeman   \n",
       "3            Enigma  Logged In     Micah      M             80     Long   \n",
       "4         Daft Punk  Logged In     Colin      M             52  Freeman   \n",
       "\n",
       "      length level                        location method      page  \\\n",
       "0  277.89016  paid                 Bakersfield, CA    PUT  NextSong   \n",
       "1  236.09424  free  Boston-Cambridge-Newton, MA-NH    PUT  NextSong   \n",
       "2  282.82730  paid                 Bakersfield, CA    PUT  NextSong   \n",
       "3  262.71302  free  Boston-Cambridge-Newton, MA-NH    PUT  NextSong   \n",
       "4  223.60771  paid                 Bakersfield, CA    PUT  NextSong   \n",
       "\n",
       "    registration  sessionId                           song  status  \\\n",
       "0  1538173362000         29                      Rockpools     200   \n",
       "1  1538331630000          8                         Canada     200   \n",
       "2  1538173362000         29              Time For Miracles     200   \n",
       "3  1538331630000          8    Knocking On Forbidden Doors     200   \n",
       "4  1538173362000         29  Harder Better Faster Stronger     200   \n",
       "\n",
       "              ts                                          userAgent userId  \n",
       "0  1538352117000  Mozilla/5.0 (Windows NT 6.1; WOW64; rv:31.0) G...     30  \n",
       "1  1538352180000  \"Mozilla/5.0 (Windows NT 6.1; WOW64) AppleWebK...      9  \n",
       "2  1538352394000  Mozilla/5.0 (Windows NT 6.1; WOW64; rv:31.0) G...     30  \n",
       "3  1538352416000  \"Mozilla/5.0 (Windows NT 6.1; WOW64) AppleWebK...      9  \n",
       "4  1538352676000  Mozilla/5.0 (Windows NT 6.1; WOW64; rv:31.0) G...     30  "
      ]
     },
     "execution_count": 8,
     "metadata": {},
     "output_type": "execute_result"
    }
   ],
   "source": [
    "events_df.limit(5).toPandas()"
   ]
  },
  {
   "cell_type": "code",
   "execution_count": 9,
   "metadata": {},
   "outputs": [
    {
     "data": {
      "text/plain": [
       "286500"
      ]
     },
     "execution_count": 9,
     "metadata": {},
     "output_type": "execute_result"
    }
   ],
   "source": [
    "events_df.count()"
   ]
  },
  {
   "cell_type": "markdown",
   "metadata": {},
   "source": [
    "Let us see the describe method. Generally in databricks you can see the output very clearly using **events_df.describe().show()**. \n",
    "\n",
    "Since the display isn't good in jupyter environment, we convert it into pandas here "
   ]
  },
  {
   "cell_type": "code",
   "execution_count": 10,
   "metadata": {},
   "outputs": [
    {
     "data": {
      "text/html": [
       "<div>\n",
       "<style scoped>\n",
       "    .dataframe tbody tr th:only-of-type {\n",
       "        vertical-align: middle;\n",
       "    }\n",
       "\n",
       "    .dataframe tbody tr th {\n",
       "        vertical-align: top;\n",
       "    }\n",
       "\n",
       "    .dataframe thead th {\n",
       "        text-align: right;\n",
       "    }\n",
       "</style>\n",
       "<table border=\"1\" class=\"dataframe\">\n",
       "  <thead>\n",
       "    <tr style=\"text-align: right;\">\n",
       "      <th></th>\n",
       "      <th>summary</th>\n",
       "      <th>artist</th>\n",
       "      <th>auth</th>\n",
       "      <th>firstName</th>\n",
       "      <th>gender</th>\n",
       "      <th>itemInSession</th>\n",
       "      <th>lastName</th>\n",
       "      <th>length</th>\n",
       "      <th>level</th>\n",
       "      <th>location</th>\n",
       "      <th>method</th>\n",
       "      <th>page</th>\n",
       "      <th>registration</th>\n",
       "      <th>sessionId</th>\n",
       "      <th>song</th>\n",
       "      <th>status</th>\n",
       "      <th>ts</th>\n",
       "      <th>userAgent</th>\n",
       "      <th>userId</th>\n",
       "    </tr>\n",
       "  </thead>\n",
       "  <tbody>\n",
       "    <tr>\n",
       "      <th>0</th>\n",
       "      <td>count</td>\n",
       "      <td>228108</td>\n",
       "      <td>286500</td>\n",
       "      <td>278154</td>\n",
       "      <td>278154</td>\n",
       "      <td>286500</td>\n",
       "      <td>278154</td>\n",
       "      <td>228108</td>\n",
       "      <td>286500</td>\n",
       "      <td>278154</td>\n",
       "      <td>286500</td>\n",
       "      <td>286500</td>\n",
       "      <td>278154</td>\n",
       "      <td>286500</td>\n",
       "      <td>228108</td>\n",
       "      <td>286500</td>\n",
       "      <td>286500</td>\n",
       "      <td>278154</td>\n",
       "      <td>286500</td>\n",
       "    </tr>\n",
       "    <tr>\n",
       "      <th>1</th>\n",
       "      <td>mean</td>\n",
       "      <td>551.0852017937219</td>\n",
       "      <td>None</td>\n",
       "      <td>None</td>\n",
       "      <td>None</td>\n",
       "      <td>114.41421291448516</td>\n",
       "      <td>None</td>\n",
       "      <td>249.1171819778458</td>\n",
       "      <td>None</td>\n",
       "      <td>None</td>\n",
       "      <td>None</td>\n",
       "      <td>None</td>\n",
       "      <td>1.5353588340844272E12</td>\n",
       "      <td>1041.526554973822</td>\n",
       "      <td>Infinity</td>\n",
       "      <td>210.05459685863875</td>\n",
       "      <td>1.5409568898104834E12</td>\n",
       "      <td>None</td>\n",
       "      <td>59682.02278593872</td>\n",
       "    </tr>\n",
       "    <tr>\n",
       "      <th>2</th>\n",
       "      <td>stddev</td>\n",
       "      <td>1217.7693079161374</td>\n",
       "      <td>None</td>\n",
       "      <td>None</td>\n",
       "      <td>None</td>\n",
       "      <td>129.76726201140994</td>\n",
       "      <td>None</td>\n",
       "      <td>99.23517921058361</td>\n",
       "      <td>None</td>\n",
       "      <td>None</td>\n",
       "      <td>None</td>\n",
       "      <td>None</td>\n",
       "      <td>3.291321616327586E9</td>\n",
       "      <td>726.7762634630741</td>\n",
       "      <td>NaN</td>\n",
       "      <td>31.50507848842214</td>\n",
       "      <td>1.5075439608226302E9</td>\n",
       "      <td>None</td>\n",
       "      <td>109091.9499991047</td>\n",
       "    </tr>\n",
       "    <tr>\n",
       "      <th>3</th>\n",
       "      <td>min</td>\n",
       "      <td>!!!</td>\n",
       "      <td>Cancelled</td>\n",
       "      <td>Adelaida</td>\n",
       "      <td>F</td>\n",
       "      <td>0</td>\n",
       "      <td>Adams</td>\n",
       "      <td>0.78322</td>\n",
       "      <td>free</td>\n",
       "      <td>Albany, OR</td>\n",
       "      <td>GET</td>\n",
       "      <td>About</td>\n",
       "      <td>1521380675000</td>\n",
       "      <td>1</td>\n",
       "      <td>ÃÂg ÃÂtti GrÃÂ¡a ÃÂsku</td>\n",
       "      <td>200</td>\n",
       "      <td>1538352117000</td>\n",
       "      <td>\"Mozilla/5.0 (Macintosh; Intel Mac OS X 10_10)...</td>\n",
       "      <td></td>\n",
       "    </tr>\n",
       "    <tr>\n",
       "      <th>4</th>\n",
       "      <td>max</td>\n",
       "      <td>ÃÂlafur Arnalds</td>\n",
       "      <td>Logged Out</td>\n",
       "      <td>Zyonna</td>\n",
       "      <td>M</td>\n",
       "      <td>1321</td>\n",
       "      <td>Wright</td>\n",
       "      <td>3024.66567</td>\n",
       "      <td>paid</td>\n",
       "      <td>Winston-Salem, NC</td>\n",
       "      <td>PUT</td>\n",
       "      <td>Upgrade</td>\n",
       "      <td>1543247354000</td>\n",
       "      <td>2474</td>\n",
       "      <td>ÃÂau hafa sloppiÃÂ° undan ÃÂ¾unga myrkursins</td>\n",
       "      <td>404</td>\n",
       "      <td>1543799476000</td>\n",
       "      <td>Mozilla/5.0 (compatible; MSIE 9.0; Windows NT ...</td>\n",
       "      <td>99</td>\n",
       "    </tr>\n",
       "  </tbody>\n",
       "</table>\n",
       "</div>"
      ],
      "text/plain": [
       "  summary              artist        auth firstName  gender  \\\n",
       "0   count              228108      286500    278154  278154   \n",
       "1    mean   551.0852017937219        None      None    None   \n",
       "2  stddev  1217.7693079161374        None      None    None   \n",
       "3     min                 !!!   Cancelled  Adelaida       F   \n",
       "4     max   ÃÂlafur Arnalds  Logged Out    Zyonna       M   \n",
       "\n",
       "        itemInSession lastName             length   level           location  \\\n",
       "0              286500   278154             228108  286500             278154   \n",
       "1  114.41421291448516     None  249.1171819778458    None               None   \n",
       "2  129.76726201140994     None  99.23517921058361    None               None   \n",
       "3                   0    Adams            0.78322    free         Albany, OR   \n",
       "4                1321   Wright         3024.66567    paid  Winston-Salem, NC   \n",
       "\n",
       "   method     page           registration          sessionId  \\\n",
       "0  286500   286500                 278154             286500   \n",
       "1    None     None  1.5353588340844272E12  1041.526554973822   \n",
       "2    None     None    3.291321616327586E9  726.7762634630741   \n",
       "3     GET    About          1521380675000                  1   \n",
       "4     PUT  Upgrade          1543247354000               2474   \n",
       "\n",
       "                                               song              status  \\\n",
       "0                                            228108              286500   \n",
       "1                                          Infinity  210.05459685863875   \n",
       "2                                               NaN   31.50507848842214   \n",
       "3                    \n",
       "ÃÂg ÃÂtti GrÃÂ¡a ÃÂsku                 200   \n",
       "4  ÃÂau hafa sloppiÃÂ° undan ÃÂ¾unga myrkursins                 404   \n",
       "\n",
       "                      ts                                          userAgent  \\\n",
       "0                 286500                                             278154   \n",
       "1  1.5409568898104834E12                                               None   \n",
       "2   1.5075439608226302E9                                               None   \n",
       "3          1538352117000  \"Mozilla/5.0 (Macintosh; Intel Mac OS X 10_10)...   \n",
       "4          1543799476000  Mozilla/5.0 (compatible; MSIE 9.0; Windows NT ...   \n",
       "\n",
       "              userId  \n",
       "0             286500  \n",
       "1  59682.02278593872  \n",
       "2  109091.9499991047  \n",
       "3                     \n",
       "4                 99  "
      ]
     },
     "execution_count": 10,
     "metadata": {},
     "output_type": "execute_result"
    }
   ],
   "source": [
    "events_df.describe().toPandas()"
   ]
  },
  {
   "cell_type": "code",
   "execution_count": 11,
   "metadata": {},
   "outputs": [
    {
     "name": "stdout",
     "output_type": "stream",
     "text": [
      "+-------+-----------------+\n",
      "|summary|           userId|\n",
      "+-------+-----------------+\n",
      "|  count|           286500|\n",
      "|   mean|59682.02278593872|\n",
      "| stddev|109091.9499991047|\n",
      "|    min|                 |\n",
      "|    max|               99|\n",
      "+-------+-----------------+\n",
      "\n"
     ]
    }
   ],
   "source": [
    "events_df.describe('userId').show()"
   ]
  },
  {
   "cell_type": "markdown",
   "metadata": {},
   "source": [
    "There is one problem above. **min(userId)** is *\\\"\\\"* which means there are records with userId as empty strings. We will have to filter those records out."
   ]
  },
  {
   "cell_type": "code",
   "execution_count": 12,
   "metadata": {},
   "outputs": [
    {
     "name": "stdout",
     "output_type": "stream",
     "text": [
      "+-------+-----------------+\n",
      "|summary|        sessionId|\n",
      "+-------+-----------------+\n",
      "|  count|           286500|\n",
      "|   mean|1041.526554973822|\n",
      "| stddev|726.7762634630741|\n",
      "|    min|                1|\n",
      "|    max|             2474|\n",
      "+-------+-----------------+\n",
      "\n"
     ]
    }
   ],
   "source": [
    "events_df.describe('sessionId').show()"
   ]
  },
  {
   "cell_type": "code",
   "execution_count": 13,
   "metadata": {},
   "outputs": [
    {
     "name": "stdout",
     "output_type": "stream",
     "text": [
      "+------+----+---------+------+-------------+--------+------+-----+--------+------+----+------------+---------+----+------+---+---------+------+\n",
      "|artist|auth|firstName|gender|itemInSession|lastName|length|level|location|method|page|registration|sessionId|song|status| ts|userAgent|userId|\n",
      "+------+----+---------+------+-------------+--------+------+-----+--------+------+----+------------+---------+----+------+---+---------+------+\n",
      "|     0|   0|        0|     0|            0|       0|     0|    0|       0|     0|   0|           0|        0|   0|     0|  0|        0|     0|\n",
      "+------+----+---------+------+-------------+--------+------+-----+--------+------+----+------------+---------+----+------+---+---------+------+\n",
      "\n"
     ]
    }
   ],
   "source": [
    "events_df.select([F.count(F.when(F.isnan(c), c)).alias(c) for c in events_df.columns]).show()"
   ]
  },
  {
   "cell_type": "markdown",
   "metadata": {},
   "source": [
    "Seems like there is no null values in any columns. But we have to filter out for the empty strings in the *userId* column."
   ]
  },
  {
   "cell_type": "markdown",
   "metadata": {},
   "source": [
    "# Cleaning the data"
   ]
  },
  {
   "cell_type": "code",
   "execution_count": 14,
   "metadata": {},
   "outputs": [
    {
     "data": {
      "text/plain": [
       "8346"
      ]
     },
     "execution_count": 14,
     "metadata": {},
     "output_type": "execute_result"
    }
   ],
   "source": [
    "events_df.where(F.col('userId')=='').count()"
   ]
  },
  {
   "cell_type": "code",
   "execution_count": 15,
   "metadata": {},
   "outputs": [],
   "source": [
    "events_df = events_df.where( F.col('userId') != '')"
   ]
  },
  {
   "cell_type": "code",
   "execution_count": 16,
   "metadata": {
    "scrolled": true
   },
   "outputs": [
    {
     "data": {
      "text/plain": [
       "278154"
      ]
     },
     "execution_count": 16,
     "metadata": {},
     "output_type": "execute_result"
    }
   ],
   "source": [
    "events_df.count()"
   ]
  },
  {
   "cell_type": "markdown",
   "metadata": {},
   "source": [
    "# Exploratory Data Analysis\n",
    "When you're working with the full dataset, perform EDA by loading a small subset of the data and doing basic manipulations within Spark. In this workspace, you are already provided a small subset of data you can explore.\n",
    "\n",
    "### Define Churn\n",
    "\n",
    "Once you've done some preliminary analysis, create a column `Churn` to use as the label for your model. I suggest using the `Cancellation Confirmation` events to define your churn, which happen for both paid and free users. As a bonus task, you can also look into the `Downgrade` events.\n",
    "\n",
    "### Explore Data\n",
    "Once you've defined churn, perform some exploratory data analysis to observe the behavior for users who stayed vs users who churned. You can start by exploring aggregates on these two groups of users, observing how much of a specific action they experienced per a certain time unit or number of songs played."
   ]
  },
  {
   "cell_type": "markdown",
   "metadata": {},
   "source": [
    "# EDA"
   ]
  },
  {
   "cell_type": "code",
   "execution_count": 17,
   "metadata": {},
   "outputs": [
    {
     "data": {
      "text/plain": [
       "['artist',\n",
       " 'auth',\n",
       " 'firstName',\n",
       " 'gender',\n",
       " 'itemInSession',\n",
       " 'lastName',\n",
       " 'length',\n",
       " 'level',\n",
       " 'location',\n",
       " 'method',\n",
       " 'page',\n",
       " 'registration',\n",
       " 'sessionId',\n",
       " 'song',\n",
       " 'status',\n",
       " 'ts',\n",
       " 'userAgent',\n",
       " 'userId']"
      ]
     },
     "execution_count": 17,
     "metadata": {},
     "output_type": "execute_result"
    }
   ],
   "source": [
    "events_df.columns"
   ]
  },
  {
   "cell_type": "markdown",
   "metadata": {},
   "source": [
    "Let us analyse the distribution of some important columns."
   ]
  },
  {
   "cell_type": "markdown",
   "metadata": {},
   "source": [
    "### auth"
   ]
  },
  {
   "cell_type": "code",
   "execution_count": 18,
   "metadata": {},
   "outputs": [
    {
     "name": "stdout",
     "output_type": "stream",
     "text": [
      "+---------+\n",
      "|     auth|\n",
      "+---------+\n",
      "|Cancelled|\n",
      "|Logged In|\n",
      "+---------+\n",
      "\n"
     ]
    }
   ],
   "source": [
    "events_df.select('auth').distinct().show()"
   ]
  },
  {
   "cell_type": "code",
   "execution_count": 19,
   "metadata": {},
   "outputs": [
    {
     "name": "stdout",
     "output_type": "stream",
     "text": [
      "+---------+----------------------+\n",
      "|     auth|count(DISTINCT userId)|\n",
      "+---------+----------------------+\n",
      "|Cancelled|                    52|\n",
      "|Logged In|                   225|\n",
      "+---------+----------------------+\n",
      "\n"
     ]
    }
   ],
   "source": [
    "events_df.groupby('auth').agg(F.countDistinct('userId')).show()"
   ]
  },
  {
   "cell_type": "code",
   "execution_count": 20,
   "metadata": {},
   "outputs": [
    {
     "data": {
      "text/plain": [
       "<matplotlib.axes._subplots.AxesSubplot at 0x7f82e0803fd0>"
      ]
     },
     "execution_count": 20,
     "metadata": {},
     "output_type": "execute_result"
    },
    {
     "data": {
      "image/png": "[encoded data removed]",
      "text/plain": [
       "<matplotlib.figure.Figure at 0x7f82f95d1518>"
      ]
     },
     "metadata": {
      "needs_background": "light"
     },
     "output_type": "display_data"
    }
   ],
   "source": [
    "auth_df  = events_df.groupby('auth').agg(F.countDistinct('userId').alias('counts')).toPandas()\n",
    "sns.barplot(x='auth',y='counts',data=auth_df)"
   ]
  },
  {
   "cell_type": "markdown",
   "metadata": {},
   "source": [
    "### gender"
   ]
  },
  {
   "cell_type": "code",
   "execution_count": 21,
   "metadata": {},
   "outputs": [
    {
     "name": "stdout",
     "output_type": "stream",
     "text": [
      "+------+----------------------+\n",
      "|gender|count(DISTINCT userId)|\n",
      "+------+----------------------+\n",
      "|     F|                   104|\n",
      "|     M|                   121|\n",
      "+------+----------------------+\n",
      "\n"
     ]
    }
   ],
   "source": [
    "events_df.groupby('gender').agg(F.countDistinct('userId')).show()"
   ]
  },
  {
   "cell_type": "code",
   "execution_count": 22,
   "metadata": {},
   "outputs": [
    {
     "data": {
      "text/plain": [
       "<matplotlib.axes._subplots.AxesSubplot at 0x7f82e082f358>"
      ]
     },
     "execution_count": 22,
     "metadata": {},
     "output_type": "execute_result"
    },
    {
     "data": {
      "image/png": "[encoded data removed]",
      "text/plain": [
       "<matplotlib.figure.Figure at 0x7f82f9ad3e10>"
      ]
     },
     "metadata": {
      "needs_background": "light"
     },
     "output_type": "display_data"
    }
   ],
   "source": [
    "gender_df  = events_df.groupby('gender').agg(F.countDistinct('userId').alias('counts')).toPandas()\n",
    "sns.barplot(x='gender',y='counts',data=gender_df)"
   ]
  },
  {
   "cell_type": "markdown",
   "metadata": {},
   "source": [
    "### itemInSession"
   ]
  },
  {
   "cell_type": "code",
   "execution_count": 23,
   "metadata": {},
   "outputs": [
    {
     "data": {
      "text/plain": [
       "1311"
      ]
     },
     "execution_count": 23,
     "metadata": {},
     "output_type": "execute_result"
    }
   ],
   "source": [
    "events_df.select('itemInSession').distinct().count()"
   ]
  },
  {
   "cell_type": "markdown",
   "metadata": {},
   "source": [
    "### length"
   ]
  },
  {
   "cell_type": "code",
   "execution_count": 24,
   "metadata": {},
   "outputs": [],
   "source": [
    "lengths =  events_df.select('length').toPandas()['length'].dropna().values"
   ]
  },
  {
   "cell_type": "code",
   "execution_count": 25,
   "metadata": {},
   "outputs": [
    {
     "data": {
      "text/plain": [
       "<matplotlib.axes._subplots.AxesSubplot at 0x7f82e0820470>"
      ]
     },
     "execution_count": 25,
     "metadata": {},
     "output_type": "execute_result"
    },
    {
     "data": {
      "image/png": "[encoded data removed]",
      "text/plain": [
       "<matplotlib.figure.Figure at 0x7f82e03b45f8>"
      ]
     },
     "metadata": {
      "needs_background": "light"
     },
     "output_type": "display_data"
    }
   ],
   "source": [
    "sns.distplot(lengths)"
   ]
  },
  {
   "cell_type": "markdown",
   "metadata": {},
   "source": [
    "### level"
   ]
  },
  {
   "cell_type": "code",
   "execution_count": 26,
   "metadata": {},
   "outputs": [
    {
     "name": "stdout",
     "output_type": "stream",
     "text": [
      "+-----+----------------------+\n",
      "|level|count(DISTINCT userId)|\n",
      "+-----+----------------------+\n",
      "| free|                   195|\n",
      "| paid|                   165|\n",
      "+-----+----------------------+\n",
      "\n"
     ]
    }
   ],
   "source": [
    "events_df.groupby('level').agg(F.countDistinct('userId')).show()"
   ]
  },
  {
   "cell_type": "code",
   "execution_count": 27,
   "metadata": {},
   "outputs": [
    {
     "data": {
      "text/plain": [
       "<matplotlib.axes._subplots.AxesSubplot at 0x7f82e1627d68>"
      ]
     },
     "execution_count": 27,
     "metadata": {},
     "output_type": "execute_result"
    },
    {
     "data": {
      "image/png": "[encoded data removed]",
      "text/plain": [
       "<matplotlib.figure.Figure at 0x7f82efcd2fd0>"
      ]
     },
     "metadata": {
      "needs_background": "light"
     },
     "output_type": "display_data"
    }
   ],
   "source": [
    "level_df  = events_df.groupby('level').agg(F.countDistinct('userId').alias('counts')).toPandas()\n",
    "sns.barplot(x='level',y='counts',data=level_df)"
   ]
  },
  {
   "cell_type": "markdown",
   "metadata": {},
   "source": [
    "### location"
   ]
  },
  {
   "cell_type": "code",
   "execution_count": 28,
   "metadata": {},
   "outputs": [
    {
     "name": "stdout",
     "output_type": "stream",
     "text": [
      "+--------------------+-----+\n",
      "|            location|count|\n",
      "+--------------------+-----+\n",
      "|Los Angeles-Long ...|   16|\n",
      "|New York-Newark-J...|   15|\n",
      "|Dallas-Fort Worth...|    7|\n",
      "|Phoenix-Mesa-Scot...|    7|\n",
      "|    St. Louis, MO-IL|    6|\n",
      "|Chicago-Napervill...|    6|\n",
      "|Charlotte-Concord...|    6|\n",
      "|Philadelphia-Camd...|    5|\n",
      "|Miami-Fort Lauder...|    5|\n",
      "|Boston-Cambridge-...|    5|\n",
      "|Atlanta-Sandy Spr...|    4|\n",
      "|Washington-Arling...|    4|\n",
      "|Houston-The Woodl...|    4|\n",
      "|San Diego-Carlsba...|    3|\n",
      "|Las Vegas-Henders...|    3|\n",
      "|New Haven-Milford...|    3|\n",
      "|Providence-Warwic...|    2|\n",
      "|San Antonio-New B...|    2|\n",
      "|Indianapolis-Carm...|    2|\n",
      "|         Jackson, MS|    2|\n",
      "+--------------------+-----+\n",
      "only showing top 20 rows\n",
      "\n"
     ]
    }
   ],
   "source": [
    "events_df.groupby('location').agg(F.countDistinct('userId').alias('count')).sort('count', ascending = False).show()"
   ]
  },
  {
   "cell_type": "code",
   "execution_count": 29,
   "metadata": {},
   "outputs": [],
   "source": [
    "events_df = events_df.withColumn('city', F.split(events_df['location'], ',').getItem(0)) \\\n",
    "                     .withColumn('state', F.split(events_df['location'], ',').getItem(1))"
   ]
  },
  {
   "cell_type": "code",
   "execution_count": 30,
   "metadata": {},
   "outputs": [],
   "source": [
    "events_df = events_df.withColumn('state', F.trim(F.col('state')))"
   ]
  },
  {
   "cell_type": "code",
   "execution_count": 31,
   "metadata": {},
   "outputs": [
    {
     "data": {
      "text/html": [
       "<div>\n",
       "<style scoped>\n",
       "    .dataframe tbody tr th:only-of-type {\n",
       "        vertical-align: middle;\n",
       "    }\n",
       "\n",
       "    .dataframe tbody tr th {\n",
       "        vertical-align: top;\n",
       "    }\n",
       "\n",
       "    .dataframe thead th {\n",
       "        text-align: right;\n",
       "    }\n",
       "</style>\n",
       "<table border=\"1\" class=\"dataframe\">\n",
       "  <thead>\n",
       "    <tr style=\"text-align: right;\">\n",
       "      <th></th>\n",
       "      <th>location</th>\n",
       "      <th>city</th>\n",
       "      <th>state</th>\n",
       "    </tr>\n",
       "  </thead>\n",
       "  <tbody>\n",
       "    <tr>\n",
       "      <th>161502</th>\n",
       "      <td>Boston-Cambridge-Newton, MA-NH</td>\n",
       "      <td>Boston-Cambridge-Newton</td>\n",
       "      <td>MA-NH</td>\n",
       "    </tr>\n",
       "    <tr>\n",
       "      <th>269286</th>\n",
       "      <td>Ionia, MI</td>\n",
       "      <td>Ionia</td>\n",
       "      <td>MI</td>\n",
       "    </tr>\n",
       "    <tr>\n",
       "      <th>102813</th>\n",
       "      <td>Anchorage, AK</td>\n",
       "      <td>Anchorage</td>\n",
       "      <td>AK</td>\n",
       "    </tr>\n",
       "    <tr>\n",
       "      <th>39854</th>\n",
       "      <td>Los Angeles-Long Beach-Anaheim, CA</td>\n",
       "      <td>Los Angeles-Long Beach-Anaheim</td>\n",
       "      <td>CA</td>\n",
       "    </tr>\n",
       "    <tr>\n",
       "      <th>248765</th>\n",
       "      <td>Ionia, MI</td>\n",
       "      <td>Ionia</td>\n",
       "      <td>MI</td>\n",
       "    </tr>\n",
       "  </tbody>\n",
       "</table>\n",
       "</div>"
      ],
      "text/plain": [
       "                                  location                            city  \\\n",
       "161502      Boston-Cambridge-Newton, MA-NH         Boston-Cambridge-Newton   \n",
       "269286                           Ionia, MI                           Ionia   \n",
       "102813                       Anchorage, AK                       Anchorage   \n",
       "39854   Los Angeles-Long Beach-Anaheim, CA  Los Angeles-Long Beach-Anaheim   \n",
       "248765                           Ionia, MI                           Ionia   \n",
       "\n",
       "        state  \n",
       "161502  MA-NH  \n",
       "269286     MI  \n",
       "102813     AK  \n",
       "39854      CA  \n",
       "248765     MI  "
      ]
     },
     "execution_count": 31,
     "metadata": {},
     "output_type": "execute_result"
    }
   ],
   "source": [
    "events_df.select('location', 'city', 'state').toPandas().sample(5)"
   ]
  },
  {
   "cell_type": "code",
   "execution_count": 32,
   "metadata": {},
   "outputs": [
    {
     "data": {
      "text/plain": [
       "<matplotlib.axes._subplots.AxesSubplot at 0x7f82f0a34e80>"
      ]
     },
     "execution_count": 32,
     "metadata": {},
     "output_type": "execute_result"
    },
    {
     "data": {
      "image/png": "[encoded data removed]",
      "text/plain": [
       "<matplotlib.figure.Figure at 0x7f82e083b470>"
      ]
     },
     "metadata": {
      "needs_background": "light"
     },
     "output_type": "display_data"
    }
   ],
   "source": [
    "city_df  = events_df.groupby('city').agg(F.countDistinct('userId').alias('counts')).toPandas()\n",
    "city_df.plot(x = 'city', y= 'counts', kind='bar',figsize=(17,7))"
   ]
  },
  {
   "cell_type": "code",
   "execution_count": 33,
   "metadata": {},
   "outputs": [
    {
     "data": {
      "text/plain": [
       "<matplotlib.axes._subplots.AxesSubplot at 0x7f82f8375b00>"
      ]
     },
     "execution_count": 33,
     "metadata": {},
     "output_type": "execute_result"
    },
    {
     "data": {
      "image/png": "[encoded data removed]",
      "text/plain": [
       "<matplotlib.figure.Figure at 0x7f82ec9cf080>"
      ]
     },
     "metadata": {
      "needs_background": "light"
     },
     "output_type": "display_data"
    }
   ],
   "source": [
    "state_df  = events_df.groupby('state').agg(F.countDistinct('userId').alias('counts')).toPandas()\n",
    "state_df.plot(x = 'state', y= 'counts', kind='bar',figsize=(17,7))"
   ]
  },
  {
   "cell_type": "markdown",
   "metadata": {},
   "source": [
    "### page"
   ]
  },
  {
   "cell_type": "code",
   "execution_count": 34,
   "metadata": {},
   "outputs": [
    {
     "name": "stdout",
     "output_type": "stream",
     "text": [
      "+--------------------+------+\n",
      "|                page| count|\n",
      "+--------------------+------+\n",
      "|              Cancel|    52|\n",
      "|    Submit Downgrade|    63|\n",
      "|         Thumbs Down|  2546|\n",
      "|                Home| 10082|\n",
      "|           Downgrade|  2055|\n",
      "|         Roll Advert|  3933|\n",
      "|              Logout|  3226|\n",
      "|       Save Settings|   310|\n",
      "|Cancellation Conf...|    52|\n",
      "|               About|   495|\n",
      "|            Settings|  1514|\n",
      "|     Add to Playlist|  6526|\n",
      "|          Add Friend|  4277|\n",
      "|            NextSong|228108|\n",
      "|           Thumbs Up| 12551|\n",
      "|                Help|  1454|\n",
      "|             Upgrade|   499|\n",
      "|               Error|   252|\n",
      "|      Submit Upgrade|   159|\n",
      "+--------------------+------+\n",
      "\n"
     ]
    }
   ],
   "source": [
    "events_df.groupby('page').count().show()"
   ]
  },
  {
   "cell_type": "markdown",
   "metadata": {},
   "source": [
    "### userAgent"
   ]
  },
  {
   "cell_type": "code",
   "execution_count": 35,
   "metadata": {},
   "outputs": [
    {
     "name": "stdout",
     "output_type": "stream",
     "text": [
      "+--------------------+\n",
      "|           userAgent|\n",
      "+--------------------+\n",
      "|Mozilla/5.0 (Wind...|\n",
      "|\"Mozilla/5.0 (Win...|\n",
      "|Mozilla/5.0 (Wind...|\n",
      "|\"Mozilla/5.0 (Win...|\n",
      "|Mozilla/5.0 (Wind...|\n",
      "|\"Mozilla/5.0 (Win...|\n",
      "|\"Mozilla/5.0 (Win...|\n",
      "|Mozilla/5.0 (Wind...|\n",
      "|Mozilla/5.0 (Wind...|\n",
      "|Mozilla/5.0 (Wind...|\n",
      "|\"Mozilla/5.0 (Win...|\n",
      "|\"Mozilla/5.0 (Win...|\n",
      "|Mozilla/5.0 (Wind...|\n",
      "|\"Mozilla/5.0 (Win...|\n",
      "|\"Mozilla/5.0 (Win...|\n",
      "|Mozilla/5.0 (Wind...|\n",
      "|\"Mozilla/5.0 (Win...|\n",
      "|\"Mozilla/5.0 (Mac...|\n",
      "|Mozilla/5.0 (Wind...|\n",
      "|\"Mozilla/5.0 (Win...|\n",
      "+--------------------+\n",
      "only showing top 20 rows\n",
      "\n"
     ]
    }
   ],
   "source": [
    "events_df.select('userAgent').show()"
   ]
  },
  {
   "cell_type": "code",
   "execution_count": 36,
   "metadata": {},
   "outputs": [],
   "source": [
    "events_df = events_df.withColumn(\"browser\", F.when(events_df.userAgent.contains('Firefox'), \"Firefox\")\n",
    "                                 .when(events_df.userAgent.contains('Chrome'), \"Chrome\")\n",
    "                                 .when(events_df.userAgent.contains('Safari') ,\"Safari\")\n",
    "                                 .when(events_df.userAgent.contains('Trident'), \"Trident\")\n",
    "                                 .otherwise('Other')) "
   ]
  },
  {
   "cell_type": "code",
   "execution_count": 37,
   "metadata": {},
   "outputs": [
    {
     "name": "stdout",
     "output_type": "stream",
     "text": [
      "+-------+------+\n",
      "|browser| count|\n",
      "+-------+------+\n",
      "|Firefox| 55646|\n",
      "| Safari| 61570|\n",
      "|Trident| 15347|\n",
      "| Chrome|145591|\n",
      "+-------+------+\n",
      "\n"
     ]
    }
   ],
   "source": [
    "events_df.groupby('browser').count().show()"
   ]
  },
  {
   "cell_type": "code",
   "execution_count": 38,
   "metadata": {},
   "outputs": [
    {
     "data": {
      "text/plain": [
       "<matplotlib.axes._subplots.AxesSubplot at 0x7f82ed055cc0>"
      ]
     },
     "execution_count": 38,
     "metadata": {},
     "output_type": "execute_result"
    },
    {
     "data": {
      "image/png": "[encoded data removed]",
      "text/plain": [
       "<matplotlib.figure.Figure at 0x7f82efebe550>"
      ]
     },
     "metadata": {
      "needs_background": "light"
     },
     "output_type": "display_data"
    }
   ],
   "source": [
    "browser_df  = events_df.groupby('browser').agg(F.countDistinct('userId').alias('counts')).toPandas()\n",
    "sns.barplot(x='browser',y='counts',data=browser_df)"
   ]
  },
  {
   "cell_type": "code",
   "execution_count": 39,
   "metadata": {},
   "outputs": [],
   "source": [
    "events_df = events_df.withColumn(\"os\", F.when(events_df.userAgent.contains('iPad'), \"iPad\")\n",
    "                                 .when(events_df.userAgent.contains('Windows'), \"Windows\")\n",
    "                                 .when(events_df.userAgent.contains('Macintosh') ,\"Macintosh\")\n",
    "                                 .when(events_df.userAgent.contains('iPhone'), \"iPhone\")\n",
    "                                 .when(events_df.userAgent.contains('Linux'), \"Linux\")\n",
    "                                 .otherwise('Other')) "
   ]
  },
  {
   "cell_type": "code",
   "execution_count": 40,
   "metadata": {},
   "outputs": [
    {
     "name": "stdout",
     "output_type": "stream",
     "text": [
      "+---------+------+\n",
      "|       os| count|\n",
      "+---------+------+\n",
      "|     iPad| 11381|\n",
      "|   iPhone| 11192|\n",
      "|Macintosh|102749|\n",
      "|    Linux|  8961|\n",
      "|  Windows|143871|\n",
      "+---------+------+\n",
      "\n"
     ]
    }
   ],
   "source": [
    "events_df.groupby('os').count().show()"
   ]
  },
  {
   "cell_type": "code",
   "execution_count": 41,
   "metadata": {},
   "outputs": [
    {
     "data": {
      "text/plain": [
       "<matplotlib.axes._subplots.AxesSubplot at 0x7f82e5b09240>"
      ]
     },
     "execution_count": 41,
     "metadata": {},
     "output_type": "execute_result"
    },
    {
     "data": {
      "image/png": "[encoded data removed]",
      "text/plain": [
       "<matplotlib.figure.Figure at 0x7f82e5b1ab00>"
      ]
     },
     "metadata": {
      "needs_background": "light"
     },
     "output_type": "display_data"
    }
   ],
   "source": [
    "os_df  = events_df.groupby('os').agg(F.countDistinct('userId').alias('counts')).toPandas()\n",
    "sns.barplot(x='os',y='counts',data=os_df)"
   ]
  },
  {
   "cell_type": "markdown",
   "metadata": {},
   "source": [
    "### ts"
   ]
  },
  {
   "cell_type": "markdown",
   "metadata": {},
   "source": [
    "We cant do much with the timestamp. So we will convert it to seasonality components like day of month, day of week etc"
   ]
  },
  {
   "cell_type": "code",
   "execution_count": 42,
   "metadata": {},
   "outputs": [],
   "source": [
    "events_df = events_df.withColumn('ts_mod', F.col('ts')/1000)\n",
    "events_df = events_df.withColumn('timestamp', F.from_unixtime('ts_mod').astype(T.TimestampType()) )"
   ]
  },
  {
   "cell_type": "code",
   "execution_count": 43,
   "metadata": {},
   "outputs": [],
   "source": [
    "hour_convert = F.udf(lambda x: x.hour, T.IntegerType())\n",
    "events_df = events_df.withColumn('day_of_month', F.dayofmonth(F.col('timestamp')))\\\n",
    "                     .withColumn('day_of_week', F.dayofweek('timestamp'))\\\n",
    "                     .withColumn(\"hour\", F.hour(\"timestamp\"))"
   ]
  },
  {
   "cell_type": "code",
   "execution_count": 44,
   "metadata": {},
   "outputs": [
    {
     "data": {
      "text/html": [
       "<div>\n",
       "<style scoped>\n",
       "    .dataframe tbody tr th:only-of-type {\n",
       "        vertical-align: middle;\n",
       "    }\n",
       "\n",
       "    .dataframe tbody tr th {\n",
       "        vertical-align: top;\n",
       "    }\n",
       "\n",
       "    .dataframe thead th {\n",
       "        text-align: right;\n",
       "    }\n",
       "</style>\n",
       "<table border=\"1\" class=\"dataframe\">\n",
       "  <thead>\n",
       "    <tr style=\"text-align: right;\">\n",
       "      <th></th>\n",
       "      <th>timestamp</th>\n",
       "      <th>day_of_month</th>\n",
       "      <th>day_of_week</th>\n",
       "      <th>hour</th>\n",
       "    </tr>\n",
       "  </thead>\n",
       "  <tbody>\n",
       "    <tr>\n",
       "      <th>168892</th>\n",
       "      <td>2018-11-20 02:03:16</td>\n",
       "      <td>20</td>\n",
       "      <td>3</td>\n",
       "      <td>2</td>\n",
       "    </tr>\n",
       "    <tr>\n",
       "      <th>5318</th>\n",
       "      <td>2018-10-02 21:39:04</td>\n",
       "      <td>2</td>\n",
       "      <td>3</td>\n",
       "      <td>21</td>\n",
       "    </tr>\n",
       "    <tr>\n",
       "      <th>193963</th>\n",
       "      <td>2018-11-27 00:31:33</td>\n",
       "      <td>27</td>\n",
       "      <td>3</td>\n",
       "      <td>0</td>\n",
       "    </tr>\n",
       "    <tr>\n",
       "      <th>197740</th>\n",
       "      <td>2018-11-27 22:08:19</td>\n",
       "      <td>27</td>\n",
       "      <td>3</td>\n",
       "      <td>22</td>\n",
       "    </tr>\n",
       "    <tr>\n",
       "      <th>151301</th>\n",
       "      <td>2018-11-14 19:01:52</td>\n",
       "      <td>14</td>\n",
       "      <td>4</td>\n",
       "      <td>19</td>\n",
       "    </tr>\n",
       "    <tr>\n",
       "      <th>224960</th>\n",
       "      <td>2018-10-13 16:15:37</td>\n",
       "      <td>13</td>\n",
       "      <td>7</td>\n",
       "      <td>16</td>\n",
       "    </tr>\n",
       "    <tr>\n",
       "      <th>101613</th>\n",
       "      <td>2018-10-31 07:37:21</td>\n",
       "      <td>31</td>\n",
       "      <td>4</td>\n",
       "      <td>7</td>\n",
       "    </tr>\n",
       "    <tr>\n",
       "      <th>82416</th>\n",
       "      <td>2018-10-25 11:27:58</td>\n",
       "      <td>25</td>\n",
       "      <td>5</td>\n",
       "      <td>11</td>\n",
       "    </tr>\n",
       "    <tr>\n",
       "      <th>258158</th>\n",
       "      <td>2018-10-26 16:10:59</td>\n",
       "      <td>26</td>\n",
       "      <td>6</td>\n",
       "      <td>16</td>\n",
       "    </tr>\n",
       "    <tr>\n",
       "      <th>258914</th>\n",
       "      <td>2018-10-27 17:35:02</td>\n",
       "      <td>27</td>\n",
       "      <td>7</td>\n",
       "      <td>17</td>\n",
       "    </tr>\n",
       "  </tbody>\n",
       "</table>\n",
       "</div>"
      ],
      "text/plain": [
       "                 timestamp  day_of_month  day_of_week  hour\n",
       "168892 2018-11-20 02:03:16            20            3     2\n",
       "5318   2018-10-02 21:39:04             2            3    21\n",
       "193963 2018-11-27 00:31:33            27            3     0\n",
       "197740 2018-11-27 22:08:19            27            3    22\n",
       "151301 2018-11-14 19:01:52            14            4    19\n",
       "224960 2018-10-13 16:15:37            13            7    16\n",
       "101613 2018-10-31 07:37:21            31            4     7\n",
       "82416  2018-10-25 11:27:58            25            5    11\n",
       "258158 2018-10-26 16:10:59            26            6    16\n",
       "258914 2018-10-27 17:35:02            27            7    17"
      ]
     },
     "execution_count": 44,
     "metadata": {},
     "output_type": "execute_result"
    }
   ],
   "source": [
    "events_df.select('timestamp', 'day_of_month', 'day_of_week', 'hour').toPandas().sample(10)"
   ]
  },
  {
   "cell_type": "code",
   "execution_count": 45,
   "metadata": {},
   "outputs": [
    {
     "data": {
      "text/plain": [
       "<matplotlib.axes._subplots.AxesSubplot at 0x7f82f8375588>"
      ]
     },
     "execution_count": 45,
     "metadata": {},
     "output_type": "execute_result"
    },
    {
     "data": {
      "image/png": "[encoded data removed]",
      "text/plain": [
       "<matplotlib.figure.Figure at 0x7f82f0be9e48>"
      ]
     },
     "metadata": {
      "needs_background": "light"
     },
     "output_type": "display_data"
    }
   ],
   "source": [
    "day_of_month  = events_df.groupby('day_of_month').agg(F.count('userId').alias('counts')).toPandas()\n",
    "plt.figure(figsize = (10,7))\n",
    "sns.barplot(x='day_of_month',y='counts',data=day_of_month, color = 'red')"
   ]
  },
  {
   "cell_type": "code",
   "execution_count": 46,
   "metadata": {},
   "outputs": [
    {
     "data": {
      "text/plain": [
       "<matplotlib.axes._subplots.AxesSubplot at 0x7f82f0cf4978>"
      ]
     },
     "execution_count": 46,
     "metadata": {},
     "output_type": "execute_result"
    },
    {
     "data": {
      "image/png": "[encoded data removed]",
      "text/plain": [
       "<matplotlib.figure.Figure at 0x7f82edb17438>"
      ]
     },
     "metadata": {
      "needs_background": "light"
     },
     "output_type": "display_data"
    }
   ],
   "source": [
    "day_of_week  = events_df.groupby('day_of_week').agg(F.count('userId').alias('counts')).toPandas()\n",
    "plt.figure(figsize = (10,7))\n",
    "sns.barplot(x='day_of_week',y='counts',data=day_of_week, color = 'red')"
   ]
  },
  {
   "cell_type": "code",
   "execution_count": 47,
   "metadata": {},
   "outputs": [
    {
     "data": {
      "text/plain": [
       "<matplotlib.axes._subplots.AxesSubplot at 0x7f82e1ac69e8>"
      ]
     },
     "execution_count": 47,
     "metadata": {},
     "output_type": "execute_result"
    },
    {
     "data": {
      "image/png": "[encoded data removed]",
      "text/plain": [
       "<matplotlib.figure.Figure at 0x7f82edf77630>"
      ]
     },
     "metadata": {
      "needs_background": "light"
     },
     "output_type": "display_data"
    }
   ],
   "source": [
    "hour  = events_df.groupby('hour').agg(F.count('userId').alias('counts')).toPandas()\n",
    "plt.figure(figsize = (10,7))\n",
    "sns.barplot(x='hour',y='counts',data=hour, color = 'red')"
   ]
  },
  {
   "cell_type": "markdown",
   "metadata": {},
   "source": [
    "It is very clear that activity patterns are seasonal across months, days and weeks. It is good that we have converted from epoch to seasonal parameters"
   ]
  },
  {
   "cell_type": "markdown",
   "metadata": {},
   "source": [
    "## Churn"
   ]
  },
  {
   "cell_type": "markdown",
   "metadata": {},
   "source": [
    "Churn is referred to the event when the user leaves the service/product. So in this dataset, we can use the column **page** to define our churn condition."
   ]
  },
  {
   "cell_type": "code",
   "execution_count": 48,
   "metadata": {},
   "outputs": [
    {
     "name": "stdout",
     "output_type": "stream",
     "text": [
      "+--------------------+\n",
      "|                page|\n",
      "+--------------------+\n",
      "|              Cancel|\n",
      "|    Submit Downgrade|\n",
      "|         Thumbs Down|\n",
      "|                Home|\n",
      "|           Downgrade|\n",
      "|         Roll Advert|\n",
      "|              Logout|\n",
      "|       Save Settings|\n",
      "|Cancellation Conf...|\n",
      "|               About|\n",
      "|            Settings|\n",
      "|     Add to Playlist|\n",
      "|          Add Friend|\n",
      "|            NextSong|\n",
      "|           Thumbs Up|\n",
      "|                Help|\n",
      "|             Upgrade|\n",
      "|               Error|\n",
      "|      Submit Upgrade|\n",
      "+--------------------+\n",
      "\n"
     ]
    }
   ],
   "source": [
    "events_df.select('page').distinct().show()"
   ]
  },
  {
   "cell_type": "code",
   "execution_count": 49,
   "metadata": {},
   "outputs": [
    {
     "data": {
      "text/plain": [
       "52"
      ]
     },
     "execution_count": 49,
     "metadata": {},
     "output_type": "execute_result"
    }
   ],
   "source": [
    "events_df.where(F.col('page') == 'Cancellation Confirmation').count()"
   ]
  },
  {
   "cell_type": "code",
   "execution_count": 50,
   "metadata": {},
   "outputs": [
    {
     "data": {
      "text/plain": [
       "278154"
      ]
     },
     "execution_count": 50,
     "metadata": {},
     "output_type": "execute_result"
    }
   ],
   "source": [
    "events_df.count()"
   ]
  },
  {
   "cell_type": "markdown",
   "metadata": {},
   "source": [
    "We can use the **page** = *Cancellation Confirmation* to define our churn event."
   ]
  },
  {
   "cell_type": "markdown",
   "metadata": {},
   "source": [
    "We can see there are just 52 instances of churning. The number seems much less compared to the total events. Let us validate if it causes any data imbalance issue later.\n",
    "\n",
    "Now let us define the churn event."
   ]
  },
  {
   "cell_type": "code",
   "execution_count": 51,
   "metadata": {},
   "outputs": [],
   "source": [
    "events_df = events_df.withColumn('if_churn', F.when(F.col(\"page\") == \"Cancellation Confirmation\", 1).otherwise(0))"
   ]
  },
  {
   "cell_type": "code",
   "execution_count": 52,
   "metadata": {},
   "outputs": [
    {
     "name": "stdout",
     "output_type": "stream",
     "text": [
      "+--------+------+\n",
      "|if_churn| count|\n",
      "+--------+------+\n",
      "|       1|    52|\n",
      "|       0|278102|\n",
      "+--------+------+\n",
      "\n"
     ]
    }
   ],
   "source": [
    "events_df.groupby('if_churn').count().show()"
   ]
  },
  {
   "cell_type": "code",
   "execution_count": 53,
   "metadata": {},
   "outputs": [],
   "source": [
    "if_user_churn = Window.partitionBy('userId').rangeBetween(Window.unboundedPreceding,Window.unboundedFollowing)\n",
    "events_df = events_df.withColumn('churn',F.max('if_churn').over(if_user_churn))"
   ]
  },
  {
   "cell_type": "code",
   "execution_count": 54,
   "metadata": {},
   "outputs": [
    {
     "name": "stdout",
     "output_type": "stream",
     "text": [
      "+-----+------+\n",
      "|churn| count|\n",
      "+-----+------+\n",
      "|    1| 44864|\n",
      "|    0|233290|\n",
      "+-----+------+\n",
      "\n"
     ]
    }
   ],
   "source": [
    "events_df.groupby('churn').count().show()"
   ]
  },
  {
   "cell_type": "markdown",
   "metadata": {},
   "source": [
    "## Feature Exploration"
   ]
  },
  {
   "cell_type": "markdown",
   "metadata": {},
   "source": [
    "## auth"
   ]
  },
  {
   "cell_type": "code",
   "execution_count": 55,
   "metadata": {},
   "outputs": [
    {
     "name": "stdout",
     "output_type": "stream",
     "text": [
      "+---------+-----+----------------------+\n",
      "|     auth|churn|count(DISTINCT userId)|\n",
      "+---------+-----+----------------------+\n",
      "|Cancelled|    1|                    52|\n",
      "|Logged In|    1|                    52|\n",
      "|Logged In|    0|                   173|\n",
      "+---------+-----+----------------------+\n",
      "\n"
     ]
    }
   ],
   "source": [
    "events_df.groupby('auth','churn').agg(F.countDistinct('userId')).show()"
   ]
  },
  {
   "cell_type": "markdown",
   "metadata": {},
   "source": [
    "*auth* is just a state and it has no effect on churning"
   ]
  },
  {
   "cell_type": "markdown",
   "metadata": {},
   "source": [
    "### gender"
   ]
  },
  {
   "cell_type": "code",
   "execution_count": 56,
   "metadata": {},
   "outputs": [
    {
     "name": "stdout",
     "output_type": "stream",
     "text": [
      "+------+-----+----------------------+\n",
      "|gender|churn|count(DISTINCT userId)|\n",
      "+------+-----+----------------------+\n",
      "|     M|    1|                    32|\n",
      "|     F|    0|                    84|\n",
      "|     F|    1|                    20|\n",
      "|     M|    0|                    89|\n",
      "+------+-----+----------------------+\n",
      "\n"
     ]
    }
   ],
   "source": [
    "events_df.groupby('gender','churn').agg(F.countDistinct('userId')).show()"
   ]
  },
  {
   "cell_type": "code",
   "execution_count": 57,
   "metadata": {},
   "outputs": [],
   "source": [
    "gender_churn_df = events_df.groupby('gender','churn').agg(F.countDistinct('userId').alias('count')).toPandas()"
   ]
  },
  {
   "cell_type": "code",
   "execution_count": 58,
   "metadata": {},
   "outputs": [
    {
     "data": {
      "text/plain": [
       "<matplotlib.axes._subplots.AxesSubplot at 0x7f82e28bf390>"
      ]
     },
     "execution_count": 58,
     "metadata": {},
     "output_type": "execute_result"
    },
    {
     "data": {
      "image/png": "[encoded data removed]",
      "text/plain": [
       "<matplotlib.figure.Figure at 0x7f82edf71550>"
      ]
     },
     "metadata": {
      "needs_background": "light"
     },
     "output_type": "display_data"
    }
   ],
   "source": [
    "sns.barplot(x='churn', y='count', hue='gender', data=gender_churn_df)"
   ]
  },
  {
   "cell_type": "markdown",
   "metadata": {},
   "source": [
    "**male_churn_ratio** = 32/121 = 0.264"
   ]
  },
  {
   "cell_type": "markdown",
   "metadata": {},
   "source": [
    "**female_churn_ratio** = 20/104 = 0.192"
   ]
  },
  {
   "cell_type": "markdown",
   "metadata": {},
   "source": [
    "Male churn ratio is slighty higher that female churn ratio. So it can be a good feature to explain churning."
   ]
  },
  {
   "cell_type": "markdown",
   "metadata": {},
   "source": [
    "### length"
   ]
  },
  {
   "cell_type": "code",
   "execution_count": 59,
   "metadata": {},
   "outputs": [
    {
     "data": {
      "text/plain": [
       "array([[<matplotlib.axes._subplots.AxesSubplot object at 0x7f82e3b416a0>]], dtype=object)"
      ]
     },
     "execution_count": 59,
     "metadata": {},
     "output_type": "execute_result"
    },
    {
     "data": {
      "image/png": "[encoded data removed]",
      "text/plain": [
       "<matplotlib.figure.Figure at 0x7f82e3b52160>"
      ]
     },
     "metadata": {
      "needs_background": "light"
     },
     "output_type": "display_data"
    }
   ],
   "source": [
    "events_df.where(F.col('churn') == 1).groupby('userId').agg(F.mean('length').alias('mean_user_length'))\\\n",
    ".select('mean_user_length').toPandas().hist(bins = 10)"
   ]
  },
  {
   "cell_type": "code",
   "execution_count": 60,
   "metadata": {},
   "outputs": [
    {
     "data": {
      "text/plain": [
       "array([[<matplotlib.axes._subplots.AxesSubplot object at 0x7f82e51fb4a8>]], dtype=object)"
      ]
     },
     "execution_count": 60,
     "metadata": {},
     "output_type": "execute_result"
    },
    {
     "data": {
      "image/png": "[encoded data removed]",
      "text/plain": [
       "<matplotlib.figure.Figure at 0x7f82e4d436d8>"
      ]
     },
     "metadata": {
      "needs_background": "light"
     },
     "output_type": "display_data"
    }
   ],
   "source": [
    "events_df.where(F.col('churn') == 0).groupby('userId').agg(F.mean('length').alias('mean_user_length'))\\\n",
    ".select('mean_user_length').toPandas().hist(bins = 10)"
   ]
  },
  {
   "cell_type": "code",
   "execution_count": 61,
   "metadata": {},
   "outputs": [
    {
     "data": {
      "text/plain": [
       "array([[<matplotlib.axes._subplots.AxesSubplot object at 0x7f82e5ffc160>]], dtype=object)"
      ]
     },
     "execution_count": 61,
     "metadata": {},
     "output_type": "execute_result"
    },
    {
     "data": {
      "image/png": "[encoded data removed]",
      "text/plain": [
       "<matplotlib.figure.Figure at 0x7f82e3b52588>"
      ]
     },
     "metadata": {
      "needs_background": "light"
     },
     "output_type": "display_data"
    }
   ],
   "source": [
    "events_df.where(F.col('churn') == 1).groupby('userId').agg(F.stddev('length').alias('standard_deviation'))\\\n",
    ".select('standard_deviation').toPandas().hist(bins = 10)"
   ]
  },
  {
   "cell_type": "code",
   "execution_count": 62,
   "metadata": {},
   "outputs": [
    {
     "data": {
      "text/plain": [
       "array([[<matplotlib.axes._subplots.AxesSubplot object at 0x7f82e72c2128>]], dtype=object)"
      ]
     },
     "execution_count": 62,
     "metadata": {},
     "output_type": "execute_result"
    },
    {
     "data": {
      "image/png": "[encoded data removed]",
      "text/plain": [
       "<matplotlib.figure.Figure at 0x7f82e5fcefd0>"
      ]
     },
     "metadata": {
      "needs_background": "light"
     },
     "output_type": "display_data"
    }
   ],
   "source": [
    "events_df.where(F.col('churn') == 0).groupby('userId').agg(F.count('length').alias('standard_deviation'))\\\n",
    ".select('standard_deviation').toPandas().hist(bins = 10)"
   ]
  },
  {
   "cell_type": "markdown",
   "metadata": {},
   "source": [
    "Seems like the *length* parameter is a good feature to explain churning."
   ]
  },
  {
   "cell_type": "markdown",
   "metadata": {},
   "source": [
    "### level"
   ]
  },
  {
   "cell_type": "code",
   "execution_count": 63,
   "metadata": {},
   "outputs": [
    {
     "name": "stdout",
     "output_type": "stream",
     "text": [
      "+-----+-----+----------------------+\n",
      "|churn|level|count(DISTINCT userId)|\n",
      "+-----+-----+----------------------+\n",
      "|    0| free|                   149|\n",
      "|    0| paid|                   129|\n",
      "|    1| paid|                    36|\n",
      "|    1| free|                    46|\n",
      "+-----+-----+----------------------+\n",
      "\n"
     ]
    }
   ],
   "source": [
    "events_df.groupby('churn','level').agg(F.countDistinct('userId')).show()"
   ]
  },
  {
   "cell_type": "code",
   "execution_count": 64,
   "metadata": {},
   "outputs": [
    {
     "data": {
      "text/plain": [
       "<matplotlib.axes._subplots.AxesSubplot at 0x7f82e9890940>"
      ]
     },
     "execution_count": 64,
     "metadata": {},
     "output_type": "execute_result"
    },
    {
     "data": {
      "image/png": "[encoded data removed]",
      "text/plain": [
       "<matplotlib.figure.Figure at 0x7f82e9890320>"
      ]
     },
     "metadata": {
      "needs_background": "light"
     },
     "output_type": "display_data"
    }
   ],
   "source": [
    "level_churn_df = events_df.groupby('churn','level').agg(F.countDistinct('userId').alias('count')).toPandas()\n",
    "sns.barplot(x='churn', y='count', hue='level', data=level_churn_df)"
   ]
  },
  {
   "cell_type": "markdown",
   "metadata": {},
   "source": [
    "**free_churn_ratio** =  46/(46+149) = 0.235"
   ]
  },
  {
   "cell_type": "markdown",
   "metadata": {},
   "source": [
    "**paid_churn_ratio** =  36/(36+129) = 0.218"
   ]
  },
  {
   "cell_type": "markdown",
   "metadata": {},
   "source": [
    "The ratio shows that there isnt much stronger correaltion between churn rations and level."
   ]
  },
  {
   "cell_type": "markdown",
   "metadata": {},
   "source": [
    "### location"
   ]
  },
  {
   "cell_type": "code",
   "execution_count": 65,
   "metadata": {},
   "outputs": [
    {
     "name": "stdout",
     "output_type": "stream",
     "text": [
      "+-----+--------------------+----------------------+\n",
      "|churn|                city|count(DISTINCT userId)|\n",
      "+-----+--------------------+----------------------+\n",
      "|    0|            Columbus|                     2|\n",
      "|    1|              Monroe|                     1|\n",
      "|    0|          Montgomery|                     1|\n",
      "|    0|Hartford-West Har...|                     2|\n",
      "|    0|   Manchester-Nashua|                     1|\n",
      "|    0|Myrtle Beach-Conw...|                     1|\n",
      "|    0|Chicago-Napervill...|                     5|\n",
      "|    0|Miami-Fort Lauder...|                     3|\n",
      "|    0|Charlotte-Concord...|                     6|\n",
      "|    0|Buffalo-Cheektowa...|                     2|\n",
      "|    1|              Quincy|                     1|\n",
      "|    0|       Stockton-Lodi|                     1|\n",
      "|    0|Milwaukee-Waukesh...|                     1|\n",
      "|    0|            Danville|                     1|\n",
      "|    1|         Kansas City|                     1|\n",
      "|    0|              Dayton|                     1|\n",
      "|    0|Atlantic City-Ham...|                     1|\n",
      "|    1|San Francisco-Oak...|                     1|\n",
      "|    0|           Anchorage|                     1|\n",
      "|    0|Santa Maria-Santa...|                     1|\n",
      "+-----+--------------------+----------------------+\n",
      "only showing top 20 rows\n",
      "\n"
     ]
    }
   ],
   "source": [
    "events_df.groupby('churn','city').agg(F.countDistinct('userId')).show()"
   ]
  },
  {
   "cell_type": "code",
   "execution_count": 66,
   "metadata": {},
   "outputs": [
    {
     "data": {
      "text/plain": [
       "<matplotlib.axes._subplots.AxesSubplot at 0x7f82e9d50a90>"
      ]
     },
     "execution_count": 66,
     "metadata": {},
     "output_type": "execute_result"
    },
    {
     "data": {
      "image/png": "[encoded data removed]",
      "text/plain": [
       "<matplotlib.figure.Figure at 0x7f82e8f5a940>"
      ]
     },
     "metadata": {
      "needs_background": "light"
     },
     "output_type": "display_data"
    }
   ],
   "source": [
    "city_churn_df = events_df.groupby('churn','city').agg(F.countDistinct('userId').alias('count')).toPandas()\n",
    "fig, ax = plt.subplots(figsize=(15,25))\n",
    "sns.barplot(x='count', y='city', hue='churn', data=city_churn_df, ax=ax)"
   ]
  },
  {
   "cell_type": "code",
   "execution_count": 67,
   "metadata": {},
   "outputs": [
    {
     "data": {
      "text/plain": [
       "<matplotlib.axes._subplots.AxesSubplot at 0x7f82f88ee908>"
      ]
     },
     "execution_count": 67,
     "metadata": {},
     "output_type": "execute_result"
    },
    {
     "data": {
      "image/png": "[encoded data removed]",
      "text/plain": [
       "<matplotlib.figure.Figure at 0x7f82ea6dc438>"
      ]
     },
     "metadata": {
      "needs_background": "light"
     },
     "output_type": "display_data"
    }
   ],
   "source": [
    "state_churn_df = events_df.groupby('churn','state').agg(F.countDistinct('userId').alias('count')).toPandas()\n",
    "fig, ax = plt.subplots(figsize=(15,25))\n",
    "sns.barplot(x='count', y='state', hue='churn', data=state_churn_df, ax=ax)"
   ]
  },
  {
   "cell_type": "markdown",
   "metadata": {},
   "source": [
    "It seems location(state and city) doesn't provide stronger explainability for churning. The distributions of the churn ratios are nearly random."
   ]
  },
  {
   "cell_type": "markdown",
   "metadata": {},
   "source": [
    "### page"
   ]
  },
  {
   "cell_type": "code",
   "execution_count": 68,
   "metadata": {},
   "outputs": [
    {
     "name": "stdout",
     "output_type": "stream",
     "text": [
      "+-----+--------------------+-----+\n",
      "|churn|                page|count|\n",
      "+-----+--------------------+-----+\n",
      "|    0|       Save Settings|  102|\n",
      "|    1|              Logout|   46|\n",
      "|    0|    Submit Downgrade|   40|\n",
      "|    0|            NextSong|  173|\n",
      "|    1|       Save Settings|   30|\n",
      "|    0|          Add Friend|  162|\n",
      "|    1|         Roll Advert|   50|\n",
      "|    0|               Error|   95|\n",
      "|    0|     Add to Playlist|  165|\n",
      "|    0|               About|  124|\n",
      "|    1|            Settings|   43|\n",
      "|    1|      Submit Upgrade|   29|\n",
      "|    0|           Thumbs Up|  170|\n",
      "|    1|Cancellation Conf...|   52|\n",
      "|    1|     Add to Playlist|   50|\n",
      "|    1|            NextSong|   52|\n",
      "|    1|                Home|   51|\n",
      "|    1|             Upgrade|   37|\n",
      "|    0|         Thumbs Down|  155|\n",
      "|    1|    Submit Downgrade|    9|\n",
      "+-----+--------------------+-----+\n",
      "only showing top 20 rows\n",
      "\n"
     ]
    }
   ],
   "source": [
    "events_df.groupby('churn','page').agg(F.countDistinct('userId').alias('count')).show()"
   ]
  },
  {
   "cell_type": "code",
   "execution_count": 69,
   "metadata": {},
   "outputs": [],
   "source": [
    "page_churn_df = events_df.groupby('churn','page').agg(F.countDistinct('userId').alias('count')).toPandas()"
   ]
  },
  {
   "cell_type": "code",
   "execution_count": 70,
   "metadata": {},
   "outputs": [
    {
     "data": {
      "text/plain": [
       "<matplotlib.axes._subplots.AxesSubplot at 0x7f82f85a7fd0>"
      ]
     },
     "execution_count": 70,
     "metadata": {},
     "output_type": "execute_result"
    },
    {
     "data": {
      "image/png": "[encoded data removed]",
      "text/plain": [
       "<matplotlib.figure.Figure at 0x7f82f85b7ef0>"
      ]
     },
     "metadata": {
      "needs_background": "light"
     },
     "output_type": "display_data"
    }
   ],
   "source": [
    "fig, ax = plt.subplots(figsize=(15,25))\n",
    "sns.barplot(x='count', y='page', hue='churn', data=page_churn_df, ax=ax)"
   ]
  },
  {
   "cell_type": "markdown",
   "metadata": {},
   "source": [
    "Clearly few events like *NextSong* have good correlation on churning events. The more the user engages in events like this, the lesser are the probability of churning"
   ]
  },
  {
   "cell_type": "markdown",
   "metadata": {},
   "source": [
    "### userAgent"
   ]
  },
  {
   "cell_type": "code",
   "execution_count": 71,
   "metadata": {},
   "outputs": [
    {
     "data": {
      "text/plain": [
       "<matplotlib.axes._subplots.AxesSubplot at 0x7f82f83ad940>"
      ]
     },
     "execution_count": 71,
     "metadata": {},
     "output_type": "execute_result"
    },
    {
     "data": {
      "image/png": "[encoded data removed]",
      "text/plain": [
       "<matplotlib.figure.Figure at 0x7f82f84205c0>"
      ]
     },
     "metadata": {
      "needs_background": "light"
     },
     "output_type": "display_data"
    }
   ],
   "source": [
    "browser_churn_df = events_df.groupby('churn','browser').agg(F.countDistinct('userId').alias('count')).toPandas()\n",
    "fig, ax = plt.subplots(figsize=(17,10))\n",
    "sns.barplot(x='browser', y='count', hue='churn', data=browser_churn_df, ax=ax)"
   ]
  },
  {
   "cell_type": "code",
   "execution_count": 72,
   "metadata": {},
   "outputs": [
    {
     "data": {
      "text/plain": [
       "<matplotlib.axes._subplots.AxesSubplot at 0x7f82f82e64a8>"
      ]
     },
     "execution_count": 72,
     "metadata": {},
     "output_type": "execute_result"
    },
    {
     "data": {
      "image/png": "[encoded data removed]",
      "text/plain": [
       "<matplotlib.figure.Figure at 0x7f82f8485630>"
      ]
     },
     "metadata": {
      "needs_background": "light"
     },
     "output_type": "display_data"
    }
   ],
   "source": [
    "os_churn_df = events_df.groupby('churn','os').agg(F.countDistinct('userId').alias('count')).toPandas()\n",
    "fig, ax = plt.subplots(figsize=(17,10))\n",
    "sns.barplot(x='os', y='count', hue='churn', data=os_churn_df, ax=ax)"
   ]
  },
  {
   "cell_type": "markdown",
   "metadata": {},
   "source": [
    "As you could see few platforms have higher churn ratio compared to others."
   ]
  },
  {
   "cell_type": "markdown",
   "metadata": {},
   "source": [
    "### ts"
   ]
  },
  {
   "cell_type": "code",
   "execution_count": 73,
   "metadata": {},
   "outputs": [
    {
     "data": {
      "text/plain": [
       "<matplotlib.axes._subplots.AxesSubplot at 0x7f82f1506908>"
      ]
     },
     "execution_count": 73,
     "metadata": {},
     "output_type": "execute_result"
    },
    {
     "data": {
      "image/png": "[encoded data removed]",
      "text/plain": [
       "<matplotlib.figure.Figure at 0x7f831474a5c0>"
      ]
     },
     "metadata": {
      "needs_background": "light"
     },
     "output_type": "display_data"
    }
   ],
   "source": [
    "hour_churn_df = events_df.groupby('hour','churn').agg(F.count('userId').alias('count')).toPandas()\n",
    "hour_churn_groupby = hour_churn_df.groupby(['churn','hour'])['count'].sum()/hour_churn_df.groupby('hour')['count'].sum()\n",
    "churn_ratio_df = pd.DataFrame(hour_churn_groupby.loc[1]).reset_index()\n",
    "churn_ratio_df.columns = ['hour', 'churn_ratio']\n",
    "fig, ax = plt.subplots(figsize=(17,7))\n",
    "sns.barplot(x='hour', y='churn_ratio', data=churn_ratio_df, ax=ax, color = 'red')"
   ]
  },
  {
   "cell_type": "code",
   "execution_count": 74,
   "metadata": {},
   "outputs": [
    {
     "data": {
      "text/plain": [
       "<matplotlib.axes._subplots.AxesSubplot at 0x7f82f1400208>"
      ]
     },
     "execution_count": 74,
     "metadata": {},
     "output_type": "execute_result"
    },
    {
     "data": {
      "image/png": "[encoded data removed]",
      "text/plain": [
       "<matplotlib.figure.Figure at 0x7f832e2c9400>"
      ]
     },
     "metadata": {
      "needs_background": "light"
     },
     "output_type": "display_data"
    }
   ],
   "source": [
    "day_of_month_churn_df = events_df.groupby('day_of_month','churn').agg(F.count('userId').alias('count')).toPandas()\n",
    "day_of_month_churn_groupby = day_of_month_churn_df.groupby(['churn','day_of_month'])['count'].sum()/day_of_month_churn_df.groupby('day_of_month')['count'].sum()\n",
    "churn_ratio_df = pd.DataFrame(day_of_month_churn_groupby.loc[1]).reset_index()\n",
    "churn_ratio_df.columns = ['day_of_month', 'churn_ratio']\n",
    "fig, ax = plt.subplots(figsize=(17,7))\n",
    "sns.barplot(x='day_of_month', y='churn_ratio', data=churn_ratio_df, ax=ax, color = 'red')"
   ]
  },
  {
   "cell_type": "code",
   "execution_count": 75,
   "metadata": {},
   "outputs": [
    {
     "data": {
      "text/plain": [
       "<matplotlib.axes._subplots.AxesSubplot at 0x7f82f12cb400>"
      ]
     },
     "execution_count": 75,
     "metadata": {},
     "output_type": "execute_result"
    },
    {
     "data": {
      "image/png": "[encoded data removed]",
      "text/plain": [
       "<matplotlib.figure.Figure at 0x7f82f145c2b0>"
      ]
     },
     "metadata": {
      "needs_background": "light"
     },
     "output_type": "display_data"
    }
   ],
   "source": [
    "day_of_week_churn_df = events_df.groupby('day_of_week','churn').agg(F.count('userId').alias('count')).toPandas()\n",
    "day_of_week_churn_groupby = day_of_week_churn_df.groupby(['churn','day_of_week'])['count'].sum()/day_of_week_churn_df.groupby('day_of_week')['count'].sum()\n",
    "churn_ratio_df = pd.DataFrame(day_of_week_churn_groupby.loc[1]).reset_index()\n",
    "churn_ratio_df.columns = ['day_of_week', 'churn_ratio']\n",
    "fig, ax = plt.subplots(figsize=(10,7))\n",
    "sns.barplot(x='day_of_week', y='churn_ratio', data=churn_ratio_df, ax=ax, color = 'red')"
   ]
  },
  {
   "cell_type": "markdown",
   "metadata": {},
   "source": [
    "The churn ratio follows a seasonality pattern. Clearly it can be a good feature for churning."
   ]
  },
  {
   "cell_type": "markdown",
   "metadata": {},
   "source": [
    "# Feature Engineering\n",
    "Once you've familiarized yourself with the data, build out the features you find promising to train your model on. To work with the full dataset, you can follow the following steps.\n",
    "- Write a script to extract the necessary features from the smaller subset of data\n",
    "- Ensure that your script is scalable, using the best practices discussed in Lesson 3\n",
    "- Try your script on the full data set, debugging your script if necessary\n",
    "\n",
    "If you are working in the classroom workspace, you can just extract features based on the small subset of data contained here. Be sure to transfer over this work to the larger dataset when you work on your Spark cluster."
   ]
  },
  {
   "cell_type": "markdown",
   "metadata": {},
   "source": [
    "## Creating Features DF"
   ]
  },
  {
   "cell_type": "code",
   "execution_count": 76,
   "metadata": {},
   "outputs": [],
   "source": [
    "feature_dict = {}"
   ]
  },
  {
   "cell_type": "markdown",
   "metadata": {},
   "source": [
    "### Categorical Features"
   ]
  },
  {
   "cell_type": "markdown",
   "metadata": {},
   "source": [
    "Gender of the user will be a categorical feature"
   ]
  },
  {
   "cell_type": "code",
   "execution_count": 77,
   "metadata": {},
   "outputs": [],
   "source": [
    "user_gender_df = events_df.groupby('userId').agg(F.first('gender').alias('gender'))\n",
    "feature_dict['user_gender_df'] = user_gender_df"
   ]
  },
  {
   "cell_type": "markdown",
   "metadata": {},
   "source": [
    "An user can be free user or paid user. Also, there can be users who would be free user at some point and will also have subscribed to the service for some time period. Even those users can also be considered as paid users. Since **F.max()** will pick the *paid* in case an user has been both a paid and a free user, we will use that function to build the feature"
   ]
  },
  {
   "cell_type": "code",
   "execution_count": 78,
   "metadata": {},
   "outputs": [
    {
     "name": "stdout",
     "output_type": "stream",
     "text": [
      "+----------+\n",
      "|max(level)|\n",
      "+----------+\n",
      "|      paid|\n",
      "+----------+\n",
      "\n"
     ]
    }
   ],
   "source": [
    "events_df.select(F.max('level')).show()"
   ]
  },
  {
   "cell_type": "code",
   "execution_count": 79,
   "metadata": {},
   "outputs": [],
   "source": [
    "user_level_df = events_df.groupby('userId').agg(F.max('level').alias('level'))\n",
    "feature_dict['user_level_df'] = user_level_df"
   ]
  },
  {
   "cell_type": "code",
   "execution_count": 80,
   "metadata": {},
   "outputs": [
    {
     "name": "stdout",
     "output_type": "stream",
     "text": [
      "+------+-----+\n",
      "|userId|level|\n",
      "+------+-----+\n",
      "|100010| free|\n",
      "|200002| paid|\n",
      "|   125| free|\n",
      "|   124| paid|\n",
      "|    51| paid|\n",
      "|     7| free|\n",
      "|    15| paid|\n",
      "|    54| paid|\n",
      "|   155| paid|\n",
      "|100014| paid|\n",
      "|   132| paid|\n",
      "|   154| free|\n",
      "|   101| paid|\n",
      "|    11| paid|\n",
      "|   138| paid|\n",
      "|300017| paid|\n",
      "|100021| free|\n",
      "|    29| paid|\n",
      "|    69| paid|\n",
      "|   112| free|\n",
      "+------+-----+\n",
      "only showing top 20 rows\n",
      "\n"
     ]
    }
   ],
   "source": [
    "user_level_df.show()"
   ]
  },
  {
   "cell_type": "markdown",
   "metadata": {},
   "source": [
    "We can also add the broswer and os, as a feature. Incidentally, in the dataset, an user had belonged to only one platform and not multiple. Thus we will use **F.first()** to capture that information."
   ]
  },
  {
   "cell_type": "code",
   "execution_count": 81,
   "metadata": {},
   "outputs": [],
   "source": [
    "user_browser_df = events_df.groupby('userId').agg(F.first('browser').alias('browser'))\n",
    "feature_dict['user_browser_df'] = user_browser_df"
   ]
  },
  {
   "cell_type": "code",
   "execution_count": 82,
   "metadata": {},
   "outputs": [
    {
     "name": "stdout",
     "output_type": "stream",
     "text": [
      "+------+-------+\n",
      "|userId|browser|\n",
      "+------+-------+\n",
      "|100010| Safari|\n",
      "|200002| Safari|\n",
      "|   125| Chrome|\n",
      "|   124| Chrome|\n",
      "|    51| Chrome|\n",
      "|     7|Firefox|\n",
      "|    15| Chrome|\n",
      "|    54|Firefox|\n",
      "|   155| Chrome|\n",
      "|100014| Chrome|\n",
      "|   132| Safari|\n",
      "|   154| Chrome|\n",
      "|   101|Firefox|\n",
      "|    11|Trident|\n",
      "|   138| Safari|\n",
      "|300017| Safari|\n",
      "|100021| Safari|\n",
      "|    29| Safari|\n",
      "|    69| Chrome|\n",
      "|   112|Firefox|\n",
      "+------+-------+\n",
      "only showing top 20 rows\n",
      "\n"
     ]
    }
   ],
   "source": [
    "user_browser_df.show()"
   ]
  },
  {
   "cell_type": "code",
   "execution_count": 83,
   "metadata": {},
   "outputs": [],
   "source": [
    "user_os_df = events_df.groupby('userId').agg(F.first('os').alias('os'))\n",
    "feature_dict['user_os_df'] = user_os_df"
   ]
  },
  {
   "cell_type": "code",
   "execution_count": 84,
   "metadata": {},
   "outputs": [
    {
     "name": "stdout",
     "output_type": "stream",
     "text": [
      "+------+---------+\n",
      "|userId|       os|\n",
      "+------+---------+\n",
      "|100010|   iPhone|\n",
      "|200002|   iPhone|\n",
      "|   125|Macintosh|\n",
      "|   124|Macintosh|\n",
      "|    51|  Windows|\n",
      "|     7|  Windows|\n",
      "|    15|  Windows|\n",
      "|    54|  Windows|\n",
      "|   155|  Windows|\n",
      "|100014|  Windows|\n",
      "|   132|Macintosh|\n",
      "|   154|  Windows|\n",
      "|   101|  Windows|\n",
      "|    11|  Windows|\n",
      "|   138|     iPad|\n",
      "|300017|Macintosh|\n",
      "|100021|Macintosh|\n",
      "|    29|Macintosh|\n",
      "|    69|  Windows|\n",
      "|   112|  Windows|\n",
      "+------+---------+\n",
      "only showing top 20 rows\n",
      "\n"
     ]
    }
   ],
   "source": [
    "user_os_df.show()"
   ]
  },
  {
   "cell_type": "markdown",
   "metadata": {},
   "source": [
    "As we saw that the seasonal features also plays a role on the churning, we will capture that information as well. Here we will record the time interval where the user has spent the most time."
   ]
  },
  {
   "cell_type": "code",
   "execution_count": 85,
   "metadata": {},
   "outputs": [],
   "source": [
    "user_season_df = events_df.groupby('userId').agg(F.mean('hour').astype(T.IntegerType()).alias('hour'),\\\n",
    "                                                 F.mean('day_of_week').astype(T.IntegerType()).alias('day_of_week'),\\\n",
    "                                                 F.mean('day_of_month').astype(T.IntegerType()).alias('day_of_month'))\n",
    "feature_dict['user_season_df'] = user_season_df"
   ]
  },
  {
   "cell_type": "code",
   "execution_count": 86,
   "metadata": {},
   "outputs": [
    {
     "name": "stdout",
     "output_type": "stream",
     "text": [
      "+------+----+-----------+------------+\n",
      "|userId|hour|day_of_week|day_of_month|\n",
      "+------+----+-----------+------------+\n",
      "|100010|  11|          4|          12|\n",
      "|200002|  15|          4|          16|\n",
      "|   125|   4|          6|          12|\n",
      "|    51|  11|          3|           8|\n",
      "|   124|  12|          3|          14|\n",
      "|     7|   9|          4|          18|\n",
      "|    54|  12|          4|          11|\n",
      "|    15|  12|          4|          11|\n",
      "|   155|   9|          4|          16|\n",
      "|   132|  13|          3|          11|\n",
      "|   154|  17|          5|          12|\n",
      "|100014|  15|          4|          16|\n",
      "|   101|  11|          3|           8|\n",
      "|    11|  13|          3|          16|\n",
      "|   138|  11|          4|          25|\n",
      "|300017|  13|          4|          12|\n",
      "|    29|  12|          3|          14|\n",
      "|    69|  12|          4|          17|\n",
      "|100021|   6|          3|          18|\n",
      "|    42|  12|          3|          14|\n",
      "+------+----+-----------+------------+\n",
      "only showing top 20 rows\n",
      "\n"
     ]
    }
   ],
   "source": [
    "user_season_df.show()"
   ]
  },
  {
   "cell_type": "markdown",
   "metadata": {},
   "source": [
    "### Numerical features"
   ]
  },
  {
   "cell_type": "markdown",
   "metadata": {},
   "source": [
    "Since length was an important feature, we will pick the minimum, maximum, mean and standard deviation of length for each user."
   ]
  },
  {
   "cell_type": "code",
   "execution_count": 87,
   "metadata": {},
   "outputs": [],
   "source": [
    "user_length_df = events_df.groupby('userId').agg(F.min('length').alias('min_length'), F.max('length').alias('max_length'), \\\n",
    "                                F.mean('length').alias('mean_length'), F.stddev('length').alias('stddev_length'))\n",
    "feature_dict['user_length_df'] = user_length_df"
   ]
  },
  {
   "cell_type": "code",
   "execution_count": 88,
   "metadata": {},
   "outputs": [
    {
     "name": "stdout",
     "output_type": "stream",
     "text": [
      "+------+----------+----------+------------------+------------------+\n",
      "|userId|min_length|max_length|       mean_length|     stddev_length|\n",
      "+------+----------+----------+------------------+------------------+\n",
      "|100010|  52.27057| 538.85342|  243.421444909091|  79.5156544698794|\n",
      "|200002|  26.56608| 592.06485|242.91699209302305|   75.447490312729|\n",
      "|   125| 178.41587| 391.26159|261.13913750000006|  78.1110647194169|\n",
      "|    51|   4.04853|2594.87302|247.88055082899118|104.57060972073867|\n",
      "|   124|  18.05016|2369.04444|248.17653659965674| 99.33044264553511|\n",
      "+------+----------+----------+------------------+------------------+\n",
      "only showing top 5 rows\n",
      "\n"
     ]
    }
   ],
   "source": [
    "user_length_df.show(5)"
   ]
  },
  {
   "cell_type": "markdown",
   "metadata": {},
   "source": [
    "Since the engagement information like NextSong, Add to Playlist will give an idea about the activity volume of the user in the platform, it can be a good feature to describe churning. So we will counts of specific page types for different users."
   ]
  },
  {
   "cell_type": "code",
   "execution_count": 89,
   "metadata": {},
   "outputs": [],
   "source": [
    "user_page_df = events_df.where(F.col('page').isin('NextSong','Thumbs Up', 'Thumbs Down', 'Add to Playlist', 'Add Friend', 'Roll Advert'))\\\n",
    "                                                    .groupBy('userId').pivot('page').count().fillna(0)\n",
    "feature_dict['user_page_df'] = user_page_df"
   ]
  },
  {
   "cell_type": "code",
   "execution_count": 90,
   "metadata": {},
   "outputs": [
    {
     "name": "stdout",
     "output_type": "stream",
     "text": [
      "+------+----------+---------------+--------+-----------+-----------+---------+\n",
      "|userId|Add Friend|Add to Playlist|NextSong|Roll Advert|Thumbs Down|Thumbs Up|\n",
      "+------+----------+---------------+--------+-----------+-----------+---------+\n",
      "|100010|         4|              7|     275|         52|          5|       17|\n",
      "|200002|         4|              8|     387|          7|          6|       21|\n",
      "|   125|         0|              0|       8|          1|          0|        0|\n",
      "|     7|         1|              5|     150|         16|          1|        7|\n",
      "|   124|        74|            118|    4079|          4|         41|      171|\n",
      "|    51|        28|             52|    2111|          0|         21|      100|\n",
      "|    54|        33|             72|    2841|         47|         29|      163|\n",
      "|    15|        31|             59|    1914|          1|         14|       81|\n",
      "|   155|        11|             24|     820|          8|          3|       58|\n",
      "|   132|        41|             38|    1928|          2|         17|       96|\n",
      "|100014|         6|              7|     257|          2|          3|       17|\n",
      "|   154|         3|              1|      84|         10|          0|       11|\n",
      "|   101|        29|             61|    1797|          8|         16|       86|\n",
      "|    11|         6|             20|     647|         39|          9|       40|\n",
      "|300017|        63|            113|    3632|         11|         28|      303|\n",
      "|   138|        41|             67|    2070|         17|         24|       95|\n",
      "|100021|         7|              7|     230|         30|          5|       11|\n",
      "|    69|        12|             33|    1125|          3|          9|       72|\n",
      "|    29|        47|             89|    3028|         22|         22|      154|\n",
      "|    42|        52|            104|    3573|         10|         25|      166|\n",
      "+------+----------+---------------+--------+-----------+-----------+---------+\n",
      "only showing top 20 rows\n",
      "\n"
     ]
    }
   ],
   "source": [
    "user_page_df.show()"
   ]
  },
  {
   "cell_type": "markdown",
   "metadata": {},
   "source": [
    "User engagement can also be defined by the number of unique songs streamed by the user, total number of songs streamed on all a whole by the user and the unique number of artists that the user had listened to. So we will capture this information as features as well"
   ]
  },
  {
   "cell_type": "code",
   "execution_count": 91,
   "metadata": {},
   "outputs": [],
   "source": [
    "user_songs_df = events_df.groupby('userId').agg(F.countDistinct('song').alias('total_unique_stream'), \\\n",
    "                                               F.count('song').alias('total_stream'))\n",
    "feature_dict['user_songs_df'] = user_songs_df"
   ]
  },
  {
   "cell_type": "code",
   "execution_count": 92,
   "metadata": {},
   "outputs": [
    {
     "name": "stdout",
     "output_type": "stream",
     "text": [
      "+------+-------------------+------------+\n",
      "|userId|total_unique_stream|total_stream|\n",
      "+------+-------------------+------------+\n",
      "|100010|                269|         275|\n",
      "|200002|                378|         387|\n",
      "|   125|                  8|           8|\n",
      "|    51|               1854|        2111|\n",
      "|   124|               3339|        4079|\n",
      "|     7|                148|         150|\n",
      "|    15|               1707|        1914|\n",
      "|    54|               2414|        2841|\n",
      "|   155|                759|         820|\n",
      "|   132|               1718|        1928|\n",
      "|100014|                248|         257|\n",
      "|   154|                 83|          84|\n",
      "|   101|               1608|        1797|\n",
      "|    11|                616|         647|\n",
      "|   138|               1791|        2070|\n",
      "|300017|               3013|        3632|\n",
      "|    29|               2562|        3028|\n",
      "|    69|               1036|        1125|\n",
      "|100021|                226|         230|\n",
      "|   112|                211|         215|\n",
      "+------+-------------------+------------+\n",
      "only showing top 20 rows\n",
      "\n"
     ]
    }
   ],
   "source": [
    "user_songs_df.show()"
   ]
  },
  {
   "cell_type": "code",
   "execution_count": 93,
   "metadata": {},
   "outputs": [],
   "source": [
    "user_artist_df = events_df.groupby('userId').agg(F.countDistinct('artist').alias('total_unique_artists'))\n",
    "feature_dict['user_artist_df'] = user_artist_df"
   ]
  },
  {
   "cell_type": "code",
   "execution_count": 94,
   "metadata": {},
   "outputs": [
    {
     "name": "stdout",
     "output_type": "stream",
     "text": [
      "+------+--------------------+\n",
      "|userId|total_unique_artists|\n",
      "+------+--------------------+\n",
      "|100010|                 252|\n",
      "|200002|                 339|\n",
      "|   125|                   8|\n",
      "|    51|                1385|\n",
      "|   124|                2232|\n",
      "|     7|                 142|\n",
      "|    15|                1302|\n",
      "|    54|                1744|\n",
      "|   155|                 643|\n",
      "|   132|                1299|\n",
      "|   154|                  78|\n",
      "|100014|                 233|\n",
      "|   101|                1241|\n",
      "|    11|                 534|\n",
      "|   138|                1332|\n",
      "|300017|                2070|\n",
      "|    29|                1804|\n",
      "|    69|                 865|\n",
      "|100021|                 207|\n",
      "|    42|                2073|\n",
      "+------+--------------------+\n",
      "only showing top 20 rows\n",
      "\n"
     ]
    }
   ],
   "source": [
    "user_artist_df.show()"
   ]
  },
  {
   "cell_type": "markdown",
   "metadata": {},
   "source": [
    "### Putting it all together"
   ]
  },
  {
   "cell_type": "code",
   "execution_count": 95,
   "metadata": {},
   "outputs": [],
   "source": [
    "final_df = None\n",
    "\n",
    "for df_key in feature_dict.keys():\n",
    "    if final_df is None:\n",
    "        final_df = feature_dict[df_key]\n",
    "    else:\n",
    "        final_df = final_df.join(feature_dict[df_key], on = 'userId', how = 'inner')"
   ]
  },
  {
   "cell_type": "code",
   "execution_count": 96,
   "metadata": {},
   "outputs": [],
   "source": [
    "user_churn_state = events_df.groupby('userId').agg(F.first('churn').alias('label'))"
   ]
  },
  {
   "cell_type": "code",
   "execution_count": 97,
   "metadata": {},
   "outputs": [],
   "source": [
    "final_df = final_df.join(user_churn_state, on = 'userId', how = 'inner')"
   ]
  },
  {
   "cell_type": "code",
   "execution_count": 98,
   "metadata": {},
   "outputs": [],
   "source": [
    "final_df = final_df.drop(\"userId\")"
   ]
  },
  {
   "cell_type": "code",
   "execution_count": 99,
   "metadata": {},
   "outputs": [
    {
     "data": {
      "text/plain": [
       "DataFrame[gender: string, level: string, browser: string, os: string, hour: int, day_of_week: int, day_of_month: int, min_length: double, max_length: double, mean_length: double, stddev_length: double, Add Friend: bigint, Add to Playlist: bigint, NextSong: bigint, Roll Advert: bigint, Thumbs Down: bigint, Thumbs Up: bigint, total_unique_stream: bigint, total_stream: bigint, total_unique_artists: bigint, label: int]"
      ]
     },
     "execution_count": 99,
     "metadata": {},
     "output_type": "execute_result"
    }
   ],
   "source": [
    "final_df.cache()"
   ]
  },
  {
   "cell_type": "code",
   "execution_count": 100,
   "metadata": {},
   "outputs": [
    {
     "data": {
      "text/html": [
       "<div>\n",
       "<style scoped>\n",
       "    .dataframe tbody tr th:only-of-type {\n",
       "        vertical-align: middle;\n",
       "    }\n",
       "\n",
       "    .dataframe tbody tr th {\n",
       "        vertical-align: top;\n",
       "    }\n",
       "\n",
       "    .dataframe thead th {\n",
       "        text-align: right;\n",
       "    }\n",
       "</style>\n",
       "<table border=\"1\" class=\"dataframe\">\n",
       "  <thead>\n",
       "    <tr style=\"text-align: right;\">\n",
       "      <th></th>\n",
       "      <th>gender</th>\n",
       "      <th>level</th>\n",
       "      <th>browser</th>\n",
       "      <th>os</th>\n",
       "      <th>hour</th>\n",
       "      <th>day_of_week</th>\n",
       "      <th>day_of_month</th>\n",
       "      <th>min_length</th>\n",
       "      <th>max_length</th>\n",
       "      <th>mean_length</th>\n",
       "      <th>...</th>\n",
       "      <th>Add Friend</th>\n",
       "      <th>Add to Playlist</th>\n",
       "      <th>NextSong</th>\n",
       "      <th>Roll Advert</th>\n",
       "      <th>Thumbs Down</th>\n",
       "      <th>Thumbs Up</th>\n",
       "      <th>total_unique_stream</th>\n",
       "      <th>total_stream</th>\n",
       "      <th>total_unique_artists</th>\n",
       "      <th>label</th>\n",
       "    </tr>\n",
       "  </thead>\n",
       "  <tbody>\n",
       "    <tr>\n",
       "      <th>0</th>\n",
       "      <td>F</td>\n",
       "      <td>free</td>\n",
       "      <td>Safari</td>\n",
       "      <td>iPhone</td>\n",
       "      <td>11</td>\n",
       "      <td>4</td>\n",
       "      <td>12</td>\n",
       "      <td>52.27057</td>\n",
       "      <td>538.85342</td>\n",
       "      <td>243.421445</td>\n",
       "      <td>...</td>\n",
       "      <td>4</td>\n",
       "      <td>7</td>\n",
       "      <td>275</td>\n",
       "      <td>52</td>\n",
       "      <td>5</td>\n",
       "      <td>17</td>\n",
       "      <td>269</td>\n",
       "      <td>275</td>\n",
       "      <td>252</td>\n",
       "      <td>0</td>\n",
       "    </tr>\n",
       "    <tr>\n",
       "      <th>1</th>\n",
       "      <td>M</td>\n",
       "      <td>paid</td>\n",
       "      <td>Safari</td>\n",
       "      <td>iPhone</td>\n",
       "      <td>15</td>\n",
       "      <td>4</td>\n",
       "      <td>16</td>\n",
       "      <td>26.56608</td>\n",
       "      <td>592.06485</td>\n",
       "      <td>242.916992</td>\n",
       "      <td>...</td>\n",
       "      <td>4</td>\n",
       "      <td>8</td>\n",
       "      <td>387</td>\n",
       "      <td>7</td>\n",
       "      <td>6</td>\n",
       "      <td>21</td>\n",
       "      <td>378</td>\n",
       "      <td>387</td>\n",
       "      <td>339</td>\n",
       "      <td>0</td>\n",
       "    </tr>\n",
       "    <tr>\n",
       "      <th>2</th>\n",
       "      <td>M</td>\n",
       "      <td>free</td>\n",
       "      <td>Chrome</td>\n",
       "      <td>Macintosh</td>\n",
       "      <td>4</td>\n",
       "      <td>6</td>\n",
       "      <td>12</td>\n",
       "      <td>178.41587</td>\n",
       "      <td>391.26159</td>\n",
       "      <td>261.139138</td>\n",
       "      <td>...</td>\n",
       "      <td>0</td>\n",
       "      <td>0</td>\n",
       "      <td>8</td>\n",
       "      <td>1</td>\n",
       "      <td>0</td>\n",
       "      <td>0</td>\n",
       "      <td>8</td>\n",
       "      <td>8</td>\n",
       "      <td>8</td>\n",
       "      <td>1</td>\n",
       "    </tr>\n",
       "    <tr>\n",
       "      <th>3</th>\n",
       "      <td>F</td>\n",
       "      <td>paid</td>\n",
       "      <td>Chrome</td>\n",
       "      <td>Macintosh</td>\n",
       "      <td>12</td>\n",
       "      <td>3</td>\n",
       "      <td>14</td>\n",
       "      <td>18.05016</td>\n",
       "      <td>2369.04444</td>\n",
       "      <td>248.176537</td>\n",
       "      <td>...</td>\n",
       "      <td>74</td>\n",
       "      <td>118</td>\n",
       "      <td>4079</td>\n",
       "      <td>4</td>\n",
       "      <td>41</td>\n",
       "      <td>171</td>\n",
       "      <td>3339</td>\n",
       "      <td>4079</td>\n",
       "      <td>2232</td>\n",
       "      <td>0</td>\n",
       "    </tr>\n",
       "    <tr>\n",
       "      <th>4</th>\n",
       "      <td>M</td>\n",
       "      <td>paid</td>\n",
       "      <td>Chrome</td>\n",
       "      <td>Windows</td>\n",
       "      <td>11</td>\n",
       "      <td>3</td>\n",
       "      <td>8</td>\n",
       "      <td>4.04853</td>\n",
       "      <td>2594.87302</td>\n",
       "      <td>247.880551</td>\n",
       "      <td>...</td>\n",
       "      <td>28</td>\n",
       "      <td>52</td>\n",
       "      <td>2111</td>\n",
       "      <td>0</td>\n",
       "      <td>21</td>\n",
       "      <td>100</td>\n",
       "      <td>1854</td>\n",
       "      <td>2111</td>\n",
       "      <td>1385</td>\n",
       "      <td>1</td>\n",
       "    </tr>\n",
       "  </tbody>\n",
       "</table>\n",
       "<p>5 rows × 21 columns</p>\n",
       "</div>"
      ],
      "text/plain": [
       "  gender level browser         os  hour  day_of_week  day_of_month  \\\n",
       "0      F  free  Safari     iPhone    11            4            12   \n",
       "1      M  paid  Safari     iPhone    15            4            16   \n",
       "2      M  free  Chrome  Macintosh     4            6            12   \n",
       "3      F  paid  Chrome  Macintosh    12            3            14   \n",
       "4      M  paid  Chrome    Windows    11            3             8   \n",
       "\n",
       "   min_length  max_length  mean_length  ...    Add Friend  Add to Playlist  \\\n",
       "0    52.27057   538.85342   243.421445  ...             4                7   \n",
       "1    26.56608   592.06485   242.916992  ...             4                8   \n",
       "2   178.41587   391.26159   261.139138  ...             0                0   \n",
       "3    18.05016  2369.04444   248.176537  ...            74              118   \n",
       "4     4.04853  2594.87302   247.880551  ...            28               52   \n",
       "\n",
       "   NextSong  Roll Advert  Thumbs Down  Thumbs Up  total_unique_stream  \\\n",
       "0       275           52            5         17                  269   \n",
       "1       387            7            6         21                  378   \n",
       "2         8            1            0          0                    8   \n",
       "3      4079            4           41        171                 3339   \n",
       "4      2111            0           21        100                 1854   \n",
       "\n",
       "   total_stream  total_unique_artists  label  \n",
       "0           275                   252      0  \n",
       "1           387                   339      0  \n",
       "2             8                     8      1  \n",
       "3          4079                  2232      0  \n",
       "4          2111                  1385      1  \n",
       "\n",
       "[5 rows x 21 columns]"
      ]
     },
     "execution_count": 100,
     "metadata": {},
     "output_type": "execute_result"
    }
   ],
   "source": [
    "final_df.toPandas().head()"
   ]
  },
  {
   "cell_type": "code",
   "execution_count": 101,
   "metadata": {},
   "outputs": [
    {
     "data": {
      "text/plain": [
       "gender                        F\n",
       "level                      free\n",
       "browser                  Safari\n",
       "os                       iPhone\n",
       "hour                         11\n",
       "day_of_week                   4\n",
       "day_of_month                 12\n",
       "min_length              52.2706\n",
       "max_length              538.853\n",
       "mean_length             243.421\n",
       "stddev_length           79.5157\n",
       "Add Friend                    4\n",
       "Add to Playlist               7\n",
       "NextSong                    275\n",
       "Roll Advert                  52\n",
       "Thumbs Down                   5\n",
       "Thumbs Up                    17\n",
       "total_unique_stream         269\n",
       "total_stream                275\n",
       "total_unique_artists        252\n",
       "label                         0\n",
       "Name: 0, dtype: object"
      ]
     },
     "execution_count": 101,
     "metadata": {},
     "output_type": "execute_result"
    }
   ],
   "source": [
    "final_df.toPandas().iloc[0]"
   ]
  },
  {
   "cell_type": "code",
   "execution_count": 102,
   "metadata": {},
   "outputs": [
    {
     "data": {
      "text/plain": [
       "225"
      ]
     },
     "execution_count": 102,
     "metadata": {},
     "output_type": "execute_result"
    }
   ],
   "source": [
    "final_df.count()"
   ]
  },
  {
   "cell_type": "markdown",
   "metadata": {},
   "source": [
    "# Modeling\n",
    "Split the full dataset into train, test, and validation sets. Test out several of the machine learning methods you learned. Evaluate the accuracy of the various models, tuning parameters as necessary. Determine your winning model based on test accuracy and report results on the validation set. Since the churned users are a fairly small subset, I suggest using F1 score as the metric to optimize."
   ]
  },
  {
   "cell_type": "markdown",
   "metadata": {},
   "source": [
    "### Train Test Split"
   ]
  },
  {
   "cell_type": "markdown",
   "metadata": {},
   "source": [
    "Since we will be using "
   ]
  },
  {
   "cell_type": "code",
   "execution_count": 103,
   "metadata": {},
   "outputs": [],
   "source": [
    "categorical_columns = ['gender', 'level', 'browser', 'os', 'hour', 'day_of_week', 'day_of_month']\n",
    "numerical_columns = ['min_length', 'max_length', 'mean_length', 'stddev_length', 'Add Friend', 'Add to Playlist', \\\n",
    "                     'NextSong', 'Roll Advert', 'Thumbs Down', 'Thumbs Up', 'total_unique_stream', 'total_stream', 'total_unique_artists']"
   ]
  },
  {
   "cell_type": "code",
   "execution_count": 104,
   "metadata": {},
   "outputs": [],
   "source": [
    "categorical_index = [i+\"_index\" for i in categorical_columns]\n",
    "categorical_encoded = [i+\"_encoded\" for i in categorical_columns]"
   ]
  },
  {
   "cell_type": "code",
   "execution_count": 105,
   "metadata": {},
   "outputs": [],
   "source": [
    "stages = []\n",
    "for col in categorical_columns:\n",
    "    string_indexer = StringIndexer(inputCol= col, outputCol= col + \"_index\")\n",
    "    stages += [string_indexer]"
   ]
  },
  {
   "cell_type": "code",
   "execution_count": 106,
   "metadata": {},
   "outputs": [],
   "source": [
    "one_hot_encoding = OneHotEncoderEstimator(inputCols = categorical_index, outputCols = categorical_encoded)\n",
    "stages += [one_hot_encoding]"
   ]
  },
  {
   "cell_type": "code",
   "execution_count": 107,
   "metadata": {},
   "outputs": [],
   "source": [
    "vector_assember = VectorAssembler(inputCols=numerical_columns, outputCol='numerical_features')\n",
    "scaler = StandardScaler(withMean=True, withStd=True, inputCol='numerical_features', outputCol='numerical_features_scaled')\n",
    "stages += [vector_assember, scaler]\n",
    "\n",
    "# label_string_indexer = StringIndexer(inputCol=\"churn\", outputCol=\"label\")\n",
    "# stages += [label_string_indexer]"
   ]
  },
  {
   "cell_type": "code",
   "execution_count": 108,
   "metadata": {},
   "outputs": [],
   "source": [
    "final_vector_assember = VectorAssembler(inputCols=categorical_index + ['numerical_features_scaled'], outputCol='features')\n",
    "stages += [final_vector_assember]"
   ]
  },
  {
   "cell_type": "code",
   "execution_count": 109,
   "metadata": {},
   "outputs": [],
   "source": [
    "processed_final_df = Pipeline(stages = stages).fit(final_df).transform(final_df)"
   ]
  },
  {
   "cell_type": "code",
   "execution_count": 115,
   "metadata": {},
   "outputs": [
    {
     "name": "stdout",
     "output_type": "stream",
     "text": [
      "+-----+-----+\n",
      "|label|count|\n",
      "+-----+-----+\n",
      "|    1|   52|\n",
      "|    0|  173|\n",
      "+-----+-----+\n",
      "\n"
     ]
    }
   ],
   "source": [
    "processed_final_df.groupby('label').count().show()"
   ]
  },
  {
   "cell_type": "code",
   "execution_count": 110,
   "metadata": {},
   "outputs": [],
   "source": [
    "# minority_size = processed_final_df.where(F.col('label') == '1').count()\n",
    "# processed_df_1 = processed_final_df.where(F.col('label') == '1')\n",
    "# processed_df_0 = processed_final_df.where(F.col('label') == '0').sample(1.0, seed=7).limit(minority_size)\n",
    "# processed_final_df_balanced = processed_df_1.union(processed_df_0)\n",
    "# processed_final_df_balanced = processed_final_df_balanced.orderBy(F.rand())"
   ]
  },
  {
   "cell_type": "code",
   "execution_count": 111,
   "metadata": {},
   "outputs": [],
   "source": [
    "train_df, test_df = processed_final_df.randomSplit([0.75, 0.25], seed=7)"
   ]
  },
  {
   "cell_type": "code",
   "execution_count": 112,
   "metadata": {},
   "outputs": [
    {
     "data": {
      "text/plain": [
       "170"
      ]
     },
     "execution_count": 112,
     "metadata": {},
     "output_type": "execute_result"
    }
   ],
   "source": [
    "train_df.count()"
   ]
  },
  {
   "cell_type": "code",
   "execution_count": 113,
   "metadata": {},
   "outputs": [
    {
     "data": {
      "text/plain": [
       "55"
      ]
     },
     "execution_count": 113,
     "metadata": {},
     "output_type": "execute_result"
    }
   ],
   "source": [
    "test_df.count()"
   ]
  },
  {
   "cell_type": "markdown",
   "metadata": {},
   "source": [
    "Here we will be using three different algorithms for training.\n",
    "\n",
    "* **1. Logistic Regression**\n",
    "* **2. Random Forest Regressor**\n",
    "* **3. Support Vector Machine**"
   ]
  },
  {
   "cell_type": "code",
   "execution_count": 114,
   "metadata": {},
   "outputs": [],
   "source": [
    "import time\n",
    "evaluator = MulticlassClassificationEvaluator()"
   ]
  },
  {
   "cell_type": "markdown",
   "metadata": {},
   "source": [
    "### Logistic Regression"
   ]
  },
  {
   "cell_type": "code",
   "execution_count": 247,
   "metadata": {},
   "outputs": [
    {
     "name": "stdout",
     "output_type": "stream",
     "text": [
      "Computational time for Logisitic Regression 33.29\n"
     ]
    }
   ],
   "source": [
    "tic = time.time()\n",
    "\n",
    "lr = LogisticRegression(maxIter=10)\n",
    "lr_model = lr.fit(train_df)\n",
    "\n",
    "toc = time.time()\n",
    "print('Computational time for Logisitic Regression', round(toc-tic,2))"
   ]
  },
  {
   "cell_type": "code",
   "execution_count": 248,
   "metadata": {},
   "outputs": [
    {
     "name": "stdout",
     "output_type": "stream",
     "text": [
      "Train Accuracy-  0.8\n",
      "Train F1 Score-  0.735\n"
     ]
    }
   ],
   "source": [
    "train_pred = lr_model.transform(train_df)\n",
    "print('Train Accuracy- ', evaluator.evaluate(train_pred.select('label','prediction'), {evaluator.metricName: \"accuracy\"}))\n",
    "print('Train F1 Score- ', evaluator.evaluate(train_pred.select('label','prediction'), {evaluator.metricName: \"f1\"}))"
   ]
  },
  {
   "cell_type": "code",
   "execution_count": 249,
   "metadata": {},
   "outputs": [
    {
     "name": "stdout",
     "output_type": "stream",
     "text": [
      "Test Accuracy-  0.6545454545454545\n",
      "Test F1 Score-  0.5728488739724694\n"
     ]
    }
   ],
   "source": [
    "test_pred = lr_model.transform(test_df)\n",
    "print('Test Accuracy- ', evaluator.evaluate(test_pred.select('label','prediction'), {evaluator.metricName: \"accuracy\"}))\n",
    "print('Test F1 Score- ', evaluator.evaluate(test_pred.select('label','prediction'), {evaluator.metricName: \"f1\"}))"
   ]
  },
  {
   "cell_type": "markdown",
   "metadata": {},
   "source": [
    "### Random Forest Classifier"
   ]
  },
  {
   "cell_type": "code",
   "execution_count": 250,
   "metadata": {},
   "outputs": [
    {
     "name": "stdout",
     "output_type": "stream",
     "text": [
      "Computational time for Random Forest Classifier 47.83\n"
     ]
    }
   ],
   "source": [
    "tic = time.time()\n",
    "\n",
    "rf = RandomForestClassifier()\n",
    "rf_model = rf.fit(train_df)\n",
    "toc = time.time()\n",
    "\n",
    "print('Computational time for Random Forest Classifier', round(toc-tic,2))"
   ]
  },
  {
   "cell_type": "code",
   "execution_count": 251,
   "metadata": {},
   "outputs": [
    {
     "name": "stdout",
     "output_type": "stream",
     "text": [
      "Train Accuracy-  0.9176470588235294\n",
      "Train F1 Score-  0.9093827671913837\n"
     ]
    }
   ],
   "source": [
    "train_pred = rf_model.transform(train_df)\n",
    "print('Train Accuracy- ', evaluator.evaluate(train_pred.select('label','prediction'), {evaluator.metricName: \"accuracy\"}))\n",
    "print('Train F1 Score- ', evaluator.evaluate(train_pred.select('label','prediction'), {evaluator.metricName: \"f1\"}))"
   ]
  },
  {
   "cell_type": "code",
   "execution_count": 252,
   "metadata": {},
   "outputs": [
    {
     "name": "stdout",
     "output_type": "stream",
     "text": [
      "Test Accuracy-  0.7090909090909091\n",
      "Test F1 Score-  0.62989898989899\n"
     ]
    }
   ],
   "source": [
    "test_pred = rf_model.transform(test_df)\n",
    "print('Test Accuracy- ', evaluator.evaluate(test_pred.select('label','prediction'), {evaluator.metricName: \"accuracy\"}))\n",
    "print('Test F1 Score- ', evaluator.evaluate(test_pred.select('label','prediction'), {evaluator.metricName: \"f1\"}))"
   ]
  },
  {
   "cell_type": "markdown",
   "metadata": {},
   "source": [
    "### Support Vector Machine"
   ]
  },
  {
   "cell_type": "code",
   "execution_count": 253,
   "metadata": {},
   "outputs": [
    {
     "name": "stdout",
     "output_type": "stream",
     "text": [
      "Computational time for SVM 149.36\n"
     ]
    }
   ],
   "source": [
    "tic = time.time()\n",
    "\n",
    "svm = LinearSVC(maxIter=10, regParam=0.1)\n",
    "svm_model = svm.fit(train_df)\n",
    "\n",
    "toc = time.time()\n",
    "\n",
    "print('Computational time for SVM', round(toc-tic,2))"
   ]
  },
  {
   "cell_type": "code",
   "execution_count": 254,
   "metadata": {},
   "outputs": [
    {
     "name": "stdout",
     "output_type": "stream",
     "text": [
      "Train Accuracy-  0.7941176470588235\n",
      "Train F1 Score-  0.7029893924783028\n"
     ]
    }
   ],
   "source": [
    "train_pred = svm_model.transform(train_df)\n",
    "print('Train Accuracy- ', evaluator.evaluate(train_pred.select('label','prediction'), {evaluator.metricName: \"accuracy\"}))\n",
    "print('Train F1 Score- ', evaluator.evaluate(train_pred.select('label','prediction'), {evaluator.metricName: \"f1\"}))"
   ]
  },
  {
   "cell_type": "code",
   "execution_count": 265,
   "metadata": {},
   "outputs": [
    {
     "name": "stdout",
     "output_type": "stream",
     "text": [
      "Test Accuracy-  0.6909090909090909\n",
      "Test F1 Score-  0.564613880742913\n"
     ]
    }
   ],
   "source": [
    "test_pred = svm_model.transform(test_df)\n",
    "print('Test Accuracy- ', evaluator.evaluate(test_pred.select('label','prediction'), {evaluator.metricName: \"accuracy\"}))\n",
    "print('Test F1 Score- ', evaluator.evaluate(test_pred.select('label','prediction'), {evaluator.metricName: \"f1\"}))"
   ]
  },
  {
   "cell_type": "markdown",
   "metadata": {},
   "source": [
    "From above results we find that Random Forest Classifier categorizes the data well. Lets g a bit deeper on this algorithm and tune the hyperparameters."
   ]
  },
  {
   "cell_type": "markdown",
   "metadata": {},
   "source": [
    "### Hyperparameter tuning for Random Forest Classifier"
   ]
  },
  {
   "cell_type": "code",
   "execution_count": 116,
   "metadata": {},
   "outputs": [
    {
     "name": "stdout",
     "output_type": "stream",
     "text": [
      "Computational time for tuning Random Forest Classifier 1004.02\n",
      "Train Accuracy-  0.9941176470588236\n",
      "Train F1 Score-  0.99408587436258\n",
      "Test Accuracy-  0.7454545454545455\n",
      "Test F1 Score-  0.7072233967582805\n"
     ]
    }
   ],
   "source": [
    "tic = time.time()\n",
    "rf = RandomForestClassifier()\n",
    "\n",
    "\n",
    "paramGrid = ParamGridBuilder() \\\n",
    "    .addGrid(rf.numTrees, [20,75]) \\\n",
    "    .build()\n",
    "\n",
    "crossval = CrossValidator(estimator=rf,\n",
    "                          estimatorParamMaps=paramGrid,\n",
    "                          evaluator=MulticlassClassificationEvaluator(metricName=\"f1\"),\n",
    "                          numFolds=3) \n",
    "\n",
    "\n",
    "cv_model = crossval.fit(train_df)\n",
    "toc = time.time()\n",
    "print('Computational time for tuning Random Forest Classifier', round(toc-tic,2))\n",
    "\n",
    "\n",
    "train_pred = cv_model.transform(train_df)\n",
    "print('Train Accuracy- ', evaluator.evaluate(train_pred.select('label','prediction'), {evaluator.metricName: \"accuracy\"}))\n",
    "print('Train F1 Score- ', evaluator.evaluate(train_pred.select('label','prediction'), {evaluator.metricName: \"f1\"}))\n",
    "\n",
    "test_pred = cv_model.transform(test_df)\n",
    "print('Test Accuracy- ', evaluator.evaluate(test_pred.select('label','prediction'), {evaluator.metricName: \"accuracy\"}))\n",
    "print('Test F1 Score- ', evaluator.evaluate(test_pred.select('label','prediction'), {evaluator.metricName: \"f1\"}))"
   ]
  },
  {
   "cell_type": "code",
   "execution_count": 160,
   "metadata": {},
   "outputs": [
    {
     "data": {
      "text/plain": [
       "75"
      ]
     },
     "execution_count": 160,
     "metadata": {},
     "output_type": "execute_result"
    }
   ],
   "source": [
    "cv_model.bestModel.getNumTrees"
   ]
  },
  {
   "cell_type": "code",
   "execution_count": 162,
   "metadata": {},
   "outputs": [
    {
     "data": {
      "text/plain": [
       "[0.6857132426465493,\n",
       " 0.6857132426465493,\n",
       " 0.6796678371376585,\n",
       " 0.6796678371376585]"
      ]
     },
     "execution_count": 162,
     "metadata": {},
     "output_type": "execute_result"
    }
   ],
   "source": [
    "cv_model.avgMetrics"
   ]
  },
  {
   "cell_type": "markdown",
   "metadata": {},
   "source": [
    "# Room for improvement"
   ]
  },
  {
   "cell_type": "markdown",
   "metadata": {},
   "source": [
    "We could still improve the performance using a bigger dataset, more candidate hyper-parameters for tuning, sophisticated techniques to counteract class imbalance like SMOTE etc. \n",
    "Due to lack of computing power, we were not possible to work on these."
   ]
  },
  {
   "cell_type": "markdown",
   "metadata": {},
   "source": [
    "# Final Steps\n",
    "Clean up your code, adding comments and renaming variables to make the code easier to read and maintain. Refer to the Spark Project Overview page and Data Scientist Capstone Project Rubric to make sure you are including all components of the capstone project and meet all expectations. Remember, this includes thorough documentation in a README file in a Github repository, as well as a web app or blog post."
   ]
  }
 ],
 "metadata": {
  "kernelspec": {
   "display_name": "Python 3",
   "language": "python",
   "name": "python3"
  },
  "language_info": {
   "codemirror_mode": {
    "name": "ipython",
    "version": 3
   },
   "file_extension": ".py",
   "mimetype": "text/x-python",
   "name": "python",
   "nbconvert_exporter": "python",
   "pygments_lexer": "ipython3",
   "version": "3.6.3"
  }
 },
 "nbformat": 4,
 "nbformat_minor": 2
}
